{
 "cells": [
  {
   "cell_type": "markdown",
   "id": "8df1235c-1278-4160-bfa0-118d2db4cb17",
   "metadata": {
    "tags": []
   },
   "source": [
    "## Import libraries, load ASR function, unzip dataset, and download model"
   ]
  },
  {
   "cell_type": "code",
   "execution_count": 1,
   "id": "25f86949-8d24-4c1c-b2e4-7f1bd1f4e5f4",
   "metadata": {
    "scrolled": true,
    "tags": []
   },
   "outputs": [
    {
     "name": "stdout",
     "output_type": "stream",
     "text": [
      "Requirement already satisfied: huggingface-hub==0.10.1 in /home/studio-lab-user/.conda/envs/default/lib/python3.9/site-packages (from -r requirements.txt (line 1)) (0.10.1)\n",
      "Requirement already satisfied: Jinja2==3.1.2 in /home/studio-lab-user/.conda/envs/default/lib/python3.9/site-packages (from -r requirements.txt (line 2)) (3.1.2)\n",
      "Requirement already satisfied: json5==0.9.10 in /home/studio-lab-user/.conda/envs/default/lib/python3.9/site-packages (from -r requirements.txt (line 3)) (0.9.10)\n",
      "Requirement already satisfied: jsonschema==4.16.0 in /home/studio-lab-user/.conda/envs/default/lib/python3.9/site-packages (from -r requirements.txt (line 4)) (4.16.0)\n",
      "Requirement already satisfied: numpy==1.23.4 in /home/studio-lab-user/.conda/envs/default/lib/python3.9/site-packages (from -r requirements.txt (line 5)) (1.23.4)\n",
      "Requirement already satisfied: pyctcdecode==0.4.0 in /home/studio-lab-user/.conda/envs/default/lib/python3.9/site-packages (from -r requirements.txt (line 6)) (0.4.0)\n",
      "Requirement already satisfied: PyYAML==6.0 in /home/studio-lab-user/.conda/envs/default/lib/python3.9/site-packages (from -r requirements.txt (line 7)) (6.0)\n",
      "Requirement already satisfied: requests==2.28.1 in /home/studio-lab-user/.conda/envs/default/lib/python3.9/site-packages (from -r requirements.txt (line 8)) (2.28.1)\n",
      "Requirement already satisfied: tokenizers==0.13.1 in /home/studio-lab-user/.conda/envs/default/lib/python3.9/site-packages (from -r requirements.txt (line 9)) (0.13.1)\n",
      "Requirement already satisfied: torch==1.12.1 in /home/studio-lab-user/.conda/envs/default/lib/python3.9/site-packages (from -r requirements.txt (line 10)) (1.12.1)\n",
      "Requirement already satisfied: torchaudio==0.12.1 in /home/studio-lab-user/.conda/envs/default/lib/python3.9/site-packages (from -r requirements.txt (line 11)) (0.12.1)\n",
      "Requirement already satisfied: tqdm==4.64.1 in /home/studio-lab-user/.conda/envs/default/lib/python3.9/site-packages (from -r requirements.txt (line 12)) (4.64.1)\n",
      "Collecting transformers==4.23.1\n",
      "  Using cached transformers-4.23.1-py3-none-any.whl (5.3 MB)\n",
      "Requirement already satisfied: urllib3==1.26.12 in /home/studio-lab-user/.conda/envs/default/lib/python3.9/site-packages (from -r requirements.txt (line 14)) (1.26.12)\n",
      "Requirement already satisfied: typing-extensions>=3.7.4.3 in /home/studio-lab-user/.conda/envs/default/lib/python3.9/site-packages (from huggingface-hub==0.10.1->-r requirements.txt (line 1)) (4.4.0)\n",
      "Requirement already satisfied: packaging>=20.9 in /home/studio-lab-user/.conda/envs/default/lib/python3.9/site-packages (from huggingface-hub==0.10.1->-r requirements.txt (line 1)) (21.3)\n",
      "Requirement already satisfied: filelock in /home/studio-lab-user/.conda/envs/default/lib/python3.9/site-packages (from huggingface-hub==0.10.1->-r requirements.txt (line 1)) (3.8.0)\n",
      "Requirement already satisfied: MarkupSafe>=2.0 in /home/studio-lab-user/.conda/envs/default/lib/python3.9/site-packages (from Jinja2==3.1.2->-r requirements.txt (line 2)) (2.1.1)\n",
      "Requirement already satisfied: pyrsistent!=0.17.0,!=0.17.1,!=0.17.2,>=0.14.0 in /home/studio-lab-user/.conda/envs/default/lib/python3.9/site-packages (from jsonschema==4.16.0->-r requirements.txt (line 4)) (0.18.1)\n",
      "Requirement already satisfied: attrs>=17.4.0 in /home/studio-lab-user/.conda/envs/default/lib/python3.9/site-packages (from jsonschema==4.16.0->-r requirements.txt (line 4)) (22.1.0)\n",
      "Requirement already satisfied: pygtrie<3.0,>=2.1 in /home/studio-lab-user/.conda/envs/default/lib/python3.9/site-packages (from pyctcdecode==0.4.0->-r requirements.txt (line 6)) (2.5.0)\n",
      "Requirement already satisfied: hypothesis<7,>=6.14 in /home/studio-lab-user/.conda/envs/default/lib/python3.9/site-packages (from pyctcdecode==0.4.0->-r requirements.txt (line 6)) (6.56.3)\n",
      "Requirement already satisfied: idna<4,>=2.5 in /home/studio-lab-user/.conda/envs/default/lib/python3.9/site-packages (from requests==2.28.1->-r requirements.txt (line 8)) (3.4)\n",
      "Requirement already satisfied: certifi>=2017.4.17 in /home/studio-lab-user/.conda/envs/default/lib/python3.9/site-packages (from requests==2.28.1->-r requirements.txt (line 8)) (2022.9.24)\n",
      "Requirement already satisfied: charset-normalizer<3,>=2 in /home/studio-lab-user/.conda/envs/default/lib/python3.9/site-packages (from requests==2.28.1->-r requirements.txt (line 8)) (2.1.1)\n",
      "Requirement already satisfied: regex!=2019.12.17 in /home/studio-lab-user/.conda/envs/default/lib/python3.9/site-packages (from transformers==4.23.1->-r requirements.txt (line 13)) (2022.3.2)\n",
      "Requirement already satisfied: exceptiongroup>=1.0.0rc8 in /home/studio-lab-user/.conda/envs/default/lib/python3.9/site-packages (from hypothesis<7,>=6.14->pyctcdecode==0.4.0->-r requirements.txt (line 6)) (1.0.0rc9)\n",
      "Requirement already satisfied: sortedcontainers<3.0.0,>=2.1.0 in /home/studio-lab-user/.conda/envs/default/lib/python3.9/site-packages (from hypothesis<7,>=6.14->pyctcdecode==0.4.0->-r requirements.txt (line 6)) (2.4.0)\n",
      "Requirement already satisfied: pyparsing!=3.0.5,>=2.0.2 in /home/studio-lab-user/.conda/envs/default/lib/python3.9/site-packages (from packaging>=20.9->huggingface-hub==0.10.1->-r requirements.txt (line 1)) (3.0.9)\n",
      "Installing collected packages: transformers\n",
      "  Attempting uninstall: transformers\n",
      "    Found existing installation: transformers 4.24.0\n",
      "    Uninstalling transformers-4.24.0:\n",
      "      Successfully uninstalled transformers-4.24.0\n",
      "Successfully installed transformers-4.23.1\n"
     ]
    }
   ],
   "source": [
    "!pip install -r requirements.txt"
   ]
  },
  {
   "cell_type": "code",
   "execution_count": 3,
   "id": "bbdfeca6-403c-4b0b-8eb8-9e54dfee9670",
   "metadata": {},
   "outputs": [],
   "source": [
    "import os\n",
    "import transformers\n",
    "import torchaudio\n",
    "import numpy as np\n",
    "import sentencepiece\n",
    "import pandas as pd\n",
    "import csv\n",
    "import regex as re\n",
    "import pandas as pd\n",
    "\n",
    "from pyctcdecode import build_ctcdecoder\n",
    "from transformers import Wav2Vec2ProcessorWithLM, Wav2Vec2ForCTC, Wav2Vec2CTCTokenizer, Wav2Vec2FeatureExtractor, AutoTokenizer, AutoModelForSeq2SeqLM\n",
    "from scipy.io.wavfile import write\n",
    "import matplotlib.pyplot as plt"
   ]
  },
  {
   "cell_type": "markdown",
   "id": "b8362a71-10c8-4a24-8405-99a1df70938c",
   "metadata": {},
   "source": [
    "This function performs text generation from audio files in wav format.\n",
    "It loads the audio file into an array, adjust the sample rate to the one required by the model (16000) and run it into the model that generates text from the waveform."
   ]
  },
  {
   "cell_type": "code",
   "execution_count": 2,
   "id": "73e9a2df-37bd-41c5-92b7-393c5396bf90",
   "metadata": {},
   "outputs": [],
   "source": [
    "def asr_model(wav_file, model, processor):\n",
    "    waveform, sample_rate = torchaudio.load(wav_file)\n",
    "    resampler = torchaudio.transforms.Resample(orig_freq=sample_rate, new_freq=16000, resampling_method='sinc_interpolation')\n",
    "    # Downsampling is required to match the model's frequency, i.e.\n",
    "    # the frequency of the dataset the model was trained on.\n",
    "    speech_array = resampler(waveform).squeeze().numpy()\n",
    "    inputs = processor(speech_array, sampling_rate=16000, return_tensors=\"pt\")['input_values']\n",
    "    # Detach the tensors first (otherwise, they require gradients\n",
    "    # to be computed); also, since we're simulating the inference\n",
    "    # squeeze the resulting array at the first dimension (batch_size),\n",
    "    # otherwise, leave it as is, and call batch_decode() instead.\n",
    "    outputs = model(inputs)['logits'].detach().numpy().squeeze(0)\n",
    "    return(processor.decode(outputs).text)"
   ]
  },
  {
   "cell_type": "markdown",
   "id": "8bd6a3d7-5c3f-453e-a49e-0fe9f0933b89",
   "metadata": {},
   "source": [
    "Download model and processor to be used in the function above."
   ]
  },
  {
   "cell_type": "code",
   "execution_count": 3,
   "id": "bf3c4c25-05dc-4a12-adb8-8a2b615c166e",
   "metadata": {},
   "outputs": [],
   "source": [
    "model = Wav2Vec2ForCTC.from_pretrained(\"Yehor/wav2vec2-xls-r-300m-uk-with-small-lm\")"
   ]
  },
  {
   "cell_type": "code",
   "execution_count": 4,
   "id": "9519fea0-7f6d-4fc8-a9c3-994f9c57fd89",
   "metadata": {},
   "outputs": [
    {
     "name": "stderr",
     "output_type": "stream",
     "text": [
      "/home/studio-lab-user/.conda/envs/default/lib/python3.9/site-packages/huggingface_hub/utils/_deprecation.py:97: FutureWarning: Deprecated argument(s) used in 'snapshot_download': allow_regex. Will not be supported from version '0.12'.\n",
      "\n",
      "Please use `allow_patterns` and `ignore_patterns` instead.\n",
      "  warnings.warn(message, FutureWarning)\n"
     ]
    },
    {
     "data": {
      "application/vnd.jupyter.widget-view+json": {
       "model_id": "b8b3d6ac00864bfd8dd2654d17afec91",
       "version_major": 2,
       "version_minor": 0
      },
      "text/plain": [
       "Fetching 4 files:   0%|          | 0/4 [00:00<?, ?it/s]"
      ]
     },
     "metadata": {},
     "output_type": "display_data"
    },
    {
     "name": "stderr",
     "output_type": "stream",
     "text": [
      "Loading the LM will be faster if you build a binary file.\n",
      "Reading /home/studio-lab-user/.cache/pyctcdecode/models--Yehor--wav2vec2-xls-r-300m-uk-with-small-lm/snapshots/bbd936400e7566ba44560440aa4abd05b5983c17/language_model/5gram_correct.arpa\n",
      "----5---10---15---20---25---30---35---40---45---50---55---60---65---70---75---80---85---90---95--100\n",
      "****************************************************************************************************\n"
     ]
    }
   ],
   "source": [
    "processor = Wav2Vec2ProcessorWithLM.from_pretrained(\"Yehor/wav2vec2-xls-r-300m-uk-with-small-lm\")"
   ]
  },
  {
   "cell_type": "code",
   "execution_count": null,
   "id": "0c4a4304-6c0f-4082-9356-c2b8832607ee",
   "metadata": {},
   "outputs": [],
   "source": [
    "# Unzip file\n",
    "!unzip VOXFORG.zip"
   ]
  },
  {
   "cell_type": "markdown",
   "id": "680b88b7-f7a4-4719-b6f8-9b8e214bfd46",
   "metadata": {
    "jp-MarkdownHeadingCollapsed": true,
    "tags": []
   },
   "source": [
    "## Prepare dataset"
   ]
  },
  {
   "cell_type": "markdown",
   "id": "dbaf8b16-d8ff-45d2-858c-348ce469c6f7",
   "metadata": {},
   "source": [
    "After extracting the files, change directory to the files location. List all the directories in the location to access the files from them."
   ]
  },
  {
   "cell_type": "code",
   "execution_count": 5,
   "id": "4c3e0a01-ea3b-442a-8647-74b11e5975ff",
   "metadata": {},
   "outputs": [
    {
     "name": "stdout",
     "output_type": "stream",
     "text": [
      "/home/studio-lab-user/sagemaker-studiolab-notebooks/VOXFORG\n"
     ]
    }
   ],
   "source": [
    "# Save list of directories in the dataset folder\n",
    "\n",
    "%cd '/home/studio-lab-user/sagemaker-studiolab-notebooks/VOXFORG'\n",
    "\n",
    "folders = os.listdir()\n",
    "folders = folders[:-1]"
   ]
  },
  {
   "cell_type": "markdown",
   "id": "3fbdfdc4-4dc1-472d-994c-71450bd04038",
   "metadata": {},
   "source": [
    "Create a variable to store the file paths and their corresponding transcripts. The variable is a list containing sublists for each pair if path and transcript.\n",
    "Then, open the file in each directory of the list created before. For each line of the opened file, use regular expressions to extract the path and the transcript from the line. Store them in temporary variables. Because the output from the findall function is a list, select the index 0 of each list, strip the extra space in the line, and append them as a sublist of the list created before."
   ]
  },
  {
   "cell_type": "code",
   "execution_count": 6,
   "id": "4145bf98-79f9-4707-a01f-96df094b5bb2",
   "metadata": {},
   "outputs": [],
   "source": [
    "# Open text files in the dataset folders and save each row in a list (splitting the file path and the transcription into an inner list)\n",
    "text = []\n",
    "for f in folders:\n",
    "    file = open(f+'/etc/txt.done.data', 'r', encoding='utf8')\n",
    "    for line in file:\n",
    "        line = line.lstrip('/')\n",
    "        path = re.findall('^(.+\\.wav)', line)\n",
    "        transcript = re.findall('^.+\\.wav(.+)', line)\n",
    "        l = [path[0], transcript[0].strip(' ')]\n",
    "        text.append(l)"
   ]
  },
  {
   "cell_type": "markdown",
   "id": "d9927610-69aa-4f4f-a1bd-a25e199e01e8",
   "metadata": {},
   "source": [
    "Check if the length of the list matches the size of the dataset (number of wav files). Check if the path and the transcript were splitted correctly by printing the first line."
   ]
  },
  {
   "cell_type": "code",
   "execution_count": 7,
   "id": "34fa574d-65d4-4196-96c6-b1a656bbca27",
   "metadata": {},
   "outputs": [
    {
     "name": "stdout",
     "output_type": "stream",
     "text": [
      "380\n"
     ]
    }
   ],
   "source": [
    "print(len(text))"
   ]
  },
  {
   "cell_type": "code",
   "execution_count": 8,
   "id": "9878c52d-76e1-486e-bf00-df21bb4e63cb",
   "metadata": {},
   "outputs": [
    {
     "name": "stdout",
     "output_type": "stream",
     "text": [
      "['VOXFORG/Alias-20160403-lmx/wav/spk_id_8812551_16142703404370.wav', 'завжди знайдуться люди які зроблять тобі боляче треба продовжувати довіряти людям просто бути трохи обережнішим']\n"
     ]
    }
   ],
   "source": [
    "print(text[0])"
   ]
  },
  {
   "cell_type": "markdown",
   "id": "f48be020-9222-4c03-af07-8964c2bb889a",
   "metadata": {
    "tags": []
   },
   "source": [
    "## Generate text"
   ]
  },
  {
   "cell_type": "markdown",
   "id": "dc8d83ff-42a1-48dd-9281-315580b0f9fc",
   "metadata": {},
   "source": [
    "Change the working directory again to create a csv file that will store all the paths, transcripts, and generated text from the ASR model. First, write a header to the file. Next, the loop calls the function to generate text. The output is saved into a variable that is appended to the list containing the path and transcript for the sentence.\n",
    "Lastly, the list with all the sentences, containing path + transcript + generated text, is written to the csv file."
   ]
  },
  {
   "cell_type": "code",
   "execution_count": 7,
   "id": "5d168a14-42a3-4e79-91f4-c18595359f88",
   "metadata": {},
   "outputs": [
    {
     "name": "stdout",
     "output_type": "stream",
     "text": [
      "/home/studio-lab-user/sagemaker-studiolab-notebooks\n"
     ]
    }
   ],
   "source": [
    "%cd '/home/studio-lab-user/sagemaker-studiolab-notebooks/'"
   ]
  },
  {
   "cell_type": "code",
   "execution_count": 8,
   "id": "ab632c33-2d1a-4140-a435-488e74c2cecf",
   "metadata": {
    "scrolled": true,
    "tags": []
   },
   "outputs": [
    {
     "name": "stdout",
     "output_type": "stream",
     "text": [
      "['VOXFORG/anonymous-20131220-hzd/wav/spk_id_1484577_16142703495704.wav', 'книгою книг виданих цьогоріч є архітектурно-культурологічне дослідження леви львова яке побачило світ завдяки ініціативі та зусиллям галереї равлик', 'книгою книг виданий цього річ є архітектурно культуру логічне дослідження левельвова яке побачили світ завдяки ініціативи та зусиллям галереїравлик']\n",
      "['VOXFORG/anonymous-20131220-hzd/wav/spk_id_1484577_16142703497003.wav', 'при цьому вона старається плекати такий духовний та емоційний клімат який сприяє пошуку власного художнього слова', 'при цьому вона старається плекати такий духовний та емоційний клімат який сприяє пошуку власного художнього слова']\n",
      "['VOXFORG/anonymous-20131220-hzd/wav/spk_id_1484577_16142703497553.wav', \"а говорити є про що експозиція ненав'язлива легка сонячна\", \"а говорити є про що експозиція не нав'язлива легка сонячна\"]\n",
      "['VOXFORG/anonymous-20131220-hzd/wav/spk_id_1484577_16142703497943.wav', 'нині у львові маємо шанс запізнати людину яка у своїй творчості поклоняється сонцю', 'нині у львові маємо шанс за пізнати людину яка у своїй творчості поклоняється сонцю']\n",
      "['VOXFORG/anonymous-20131220-hzd/wav/spk_id_1484577_16142703498413.wav', 'головне ж під час лікування контакт із природою не злитися і не заздрити не ворогувати навчитися прощати образи', 'головне ж під час лікування контакти з природою не злитися і незаздрити не ворогувати навчитися прощати образи']\n",
      "['VOXFORG/anonymous-20131220-hzd/wav/spk_id_1484577_16142703498823.wav', 'щодо ракових недуг то необхідно дотримуватися суворої дієти', 'щодо ракових не дух то необхідно дотримуватися суворої дієти']\n",
      "['VOXFORG/anonymous-20131220-hzd/wav/spk_id_1484577_16142703499263.wav', \"здоров'я не знайдеш не подаруєш не вкрадеш його можна тільки напрацювати і не відкладати лікування на завтра бо завтра може і не настати\", \"здоров'я не знайдеш не подаруєш не вкрадеш його можна тільки на працювати і не відкладати лікування на завтра бо завтра може і не настати\"]\n",
      "['VOXFORG/anonymous-20131220-hzd/wav/spk_id_1484577_16142703499774.wav', 'лише той щось значить хто щось любить не бути нічим і нічого не любити одне і те ж', 'лише той щось значить хто щось любить не бути нічим і нічого не любити одне і теж']\n",
      "['VOXFORG/anonymous-20131220-hzd/wav/spk_id_1484577_16142703501133.wav', 'кажуть минає все окрім самотності', 'кажуть минає все окрім самотноще']\n",
      "['VOXFORG/anonymous-20131220-jfp/wav/spk_id_1272169_16142703502353.wav', 'майже щоденно хтось із них помирає але вони навіть не зважають на це і живуть так немовби завжди на тій землі жити мають', 'майже щоденно хтось із них помирає але вони навіть не зважають на це і живуть так не мовби завжди на тій землі жити мають']\n",
      "['VOXFORG/anonymous-20131220-jfp/wav/spk_id_1272169_16142703503653.wav', 'вона вісім років не мала дітей і от нарешті була при надії', 'вона вісім років не мала дітей і от нарешті була при надії']\n",
      "['VOXFORG/anonymous-20131220-jfp/wav/spk_id_1272169_16142703504083.wav', 'три наріччя української мови виділялися не завжди за давньоруської доби на території сучасної україни населення утворювало дві етнічно-мовні групи північно-східну і південно-західну', 'тринарічя української мови виділялися не завжди за давно руської доби на території сучасної україни населення утворювало дві етнічномовні групи північно-східно і південну західно']\n",
      "['VOXFORG/anonymous-20131220-jfp/wav/spk_id_1272169_16142703505403.wav', \"українська мова є однією з наймилозвучніших мов світу довкола походження та становлення української мови існує декілька гіпотез праслов'янська давньоруська південноруська та інші\", \"українська мова є однією з наймелозвучніших мов світу довкола походження та становлення української мови існує декілька гіпотез пора слов'янська давня руська південнорська та інше\"]\n",
      "['VOXFORG/anonymous-20131220-jfp/wav/spk_id_1272169_16142703505803.wav', 'а сонечко встане як перше вставало і зорі червоні як перше плили попливуть і потім і ти білолиций', 'а сонечко встане як перше вставало і зорі червоні як перше плили попливуті потім і ти білолицей']\n",
      "['VOXFORG/anonymous-20131220-jfp/wav/spk_id_1272169_16142703506303.wav', 'ще треті півні не співали ніхто нігде не гомонів', 'ще третє півні не співали ніхто ніде не гомонів']\n",
      "['VOXFORG/anonymous-20131220-jfp/wav/spk_id_1272169_16142703506834.wav', 'людям не те що позакладало вуха людям позакладало душі', 'людям не те що по заклад вуха людям по закладало дуже']\n",
      "['VOXFORG/anonymous-20131220-jfp/wav/spk_id_1272169_16142703507304.wav', 'жах не в тому що щось змінеться жах у тому що все може залишитися так само', 'жах не в тому що що зміниться жаху тому що все може залишитися так само']\n",
      "['VOXFORG/anonymous-20131220-jfp/wav/spk_id_1272169_16142703507793.wav', \"що сталося один раз ніколи не повториться а що сталося двічі обов'язково повториться\", \"що сталося один раз ніколи не повторится а що сталося двічі обов'язково повториться\"]\n",
      "['VOXFORG/anonymous-20131220-jfp/wav/spk_id_1272169_16142703508274.wav', 'чимало аналогічних закидів пролунало й на згаданому обговоренні', 'чи мало аналогічних закладів пролунало й на згаданому обговорення']\n",
      "['VOXFORG/anonymous-20131220-qrd/wav/spk_id_6560568_16142703509643.wav', 'досі не бралася за цю тему вважаючи що це зробить хтось інший бо родинною історією не зай\\xadмалася', 'досі не бралася за цю тему вважаючи що це зробить хтось інший бо родиною історією не займалася']\n",
      "['VOXFORG/anonymous-20131220-qrd/wav/spk_id_6560568_16142703510073.wav', \"на початку його каденції ці рішення не були популярними але згодом з'ясувалося що єпископ мав рацію\", \"на початку його каденції ці рішення не були популярними але згодом з'ясувалося що єпископмав рацію\"]\n",
      "['VOXFORG/anonymous-20131220-qrd/wav/spk_id_6560568_16142703510453.wav', 'розподіл української єпархії між галичанами які називали себе українцями та закарпатцями котрим більше подобався термін русини мав бути тимчасовим', 'розподіл української єпархію між вичанами які називалсебе українцями та за карпатцями котрим більше подобавя термін русини мов бути тимчасовим']\n",
      "['VOXFORG/anonymous-20131220-qrd/wav/spk_id_6560568_16142703510854.wav', \"присвятивши це самобутнє та направду дуже притягальне дослідження пам'яті свого батька романа гайди керівник галереї равлик під час офіційної презентації видання\", \"присвятивши це самобутнє та на правду дуже притягальне дослідження пам'яті свого батька романа гайди керівник галереї равликпід час офіційної презентації видання\"]\n",
      "['VOXFORG/anonymous-20131220-qrd/wav/spk_id_6560568_16142703511233.wav', 'цікаво також те що це дослідження є тільки частиною широкомасштабного проекту маленького равлика щодо збереження популяризації та відновлення архітектурно-культурної спадщини міста', 'цікаво також те що це дослідження є тільки частиною широкомасштабного проекту маленьку равлика щодо збереження популяризації та відновлення архітектрно культурної спадщини міста']\n",
      "['VOXFORG/anonymous-20131220-qrd/wav/spk_id_6560568_16142703511643.wav', 'і тільки тоді шлях простелився до ідеї видати книгу', 'і тільки тоді шлях простелився до ідеї видати книги']\n",
      "['VOXFORG/anonymous-20131220-qrd/wav/spk_id_6560568_16142703512024.wav', 'скажімо чи знали ми що найбільший львівський лев заввишки майже чотири метри розміщений біля сихівського кладовища', 'скажімо чи знали ми що найбільше львівський лев завижки майже чотири метри розміщений біля сихівського кладовище']\n",
      "['VOXFORG/anonymous-20131220-qrd/wav/spk_id_6560568_16142703512424.wav', 'книгою книг виданих цьогоріч є архітектурно-культурологічне дослідження леви львова яке побачило світ завдяки ініціативі та зусиллям галереї равлик', 'книгою книг виданий цього річ є архітектурноо культурологічне дослідження левильвова яке побачила світ завдяки ініціативи та зусиллям галереїравлек']\n",
      "['VOXFORG/anonymous-20131220-qrd/wav/spk_id_6560568_16142703512874.wav', 'при цьому вона старається плекати такий духовний та емоційний клімат який сприяє пошуку власного художнього слова', 'при цьому вона старається пликти такий духовний та емоційний клімат який сприяє пошуку власного художнього слова']\n",
      "['VOXFORG/anonymous-20131220-qrd/wav/spk_id_6560568_16142703513253.wav', \"а говорити є про що експозиція ненав'язлива легка сонячна\", \"а говорити є про що експозиція не нав'язлива легка сонячна\"]\n",
      "['VOXFORG/anonymous-20131220-wfk/wav/spk_id_1202854_16142703514534.wav', 'головне ж під час лікування контакт із природою не злитися і не заздрити не ворогувати навчитися прощати образи', 'головне ж під час лікування контакти з природою не злитися і не заздрити не ворогувати навчитися прощати образи']\n",
      "['VOXFORG/anonymous-20131220-wfk/wav/spk_id_1202854_16142703514944.wav', 'щодо ракових недуг то необхідно дотримуватися суворої дієти', 'щодо рокових не дух то необхідно дотримуватися суворо й діяти']\n",
      "['VOXFORG/anonymous-20131220-wfk/wav/spk_id_1202854_16142703515383.wav', \"здоров'я не знайдеш не подаруєш не вкрадеш його можна тільки напрацювати і не відкладати лікування на завтра бо завтра може і не настати\", \"здоров'я не знайдеш не подарує не вкрадеш його можна тільки на працювати і не відкладати лікування на завтра бо завтра може і не настати\"]\n",
      "['VOXFORG/anonymous-20131220-wfk/wav/spk_id_1202854_16142703515784.wav', 'лише той щось значить хто щось любить не бути нічим і нічого не любити одне і те ж', 'лише той щось значить хто щось любить не буде нічим і нічого не любити одне і теж']\n",
      "['VOXFORG/anonymous-20131220-wfk/wav/spk_id_1202854_16142703516254.wav', 'кажуть минає все окрім самотності', 'кажуть мене я все окрім самотностя']\n",
      "['VOXFORG/anonymous-20131220-wfk/wav/spk_id_1202854_16142703516723.wav', 'майже щоденно хтось із них помирає але вони навіть не зважають на це і живуть так немовби завжди на тій землі жити мають', 'майже щоденно хтось із них помирає але вони навіть не зважають на це і живуть так не мовби завжди на тій землі жити мають']\n",
      "['VOXFORG/anonymous-20131220-wfk/wav/spk_id_1202854_16142703517253.wav', 'вона вісім років не мала дітей і от нарешті була при надії', 'вона вісім років не мала дітей і от нарешті була при надії']\n",
      "['VOXFORG/anonymous-20131220-wfk/wav/spk_id_1202854_16142703517713.wav', 'три наріччя української мови виділялися не завжди за давньоруської доби на території сучасної україни населення утворювало дві етнічно-мовні групи північно-східну і південно-західну', 'три нарідча української мови виділялися не завжди за давні руської доби на території сучасної україни населення утворювало дві етнічномовні групи півнішно східно і південнозахідно']\n",
      "['VOXFORG/anonymous-20131220-wfk/wav/spk_id_1202854_16142703518333.wav', \"українська мова є однією з наймилозвучніших мов світу довкола походження та становлення української мови існує декілька гіпотез праслов'янська давньоруська південноруська та інші\", \"українська мова є однією з наймелозвучніших мов світу довкола походження та становлення української мови існує декілька гіпотез про слов'янська давно руська південноуська та інші\"]\n",
      "['VOXFORG/anonymous-20131220-wfk/wav/spk_id_1202854_16142703519633.wav', 'а сонечко встане як перше вставало і зорі червоні як перше плили попливуть і потім і ти білолиций', 'а сонечко встане як пеше вставала і зорі червоні як перше плили по пливуті потім і ти білолицей']\n",
      "['VOXFORG/anonymous-20131220-whf/wav/spk_id_5848977_16142703520893.wav', \"на початку його каденції ці рішення не були популярними але згодом з'ясувалося що єпископ мав рацію\", \"на початку його каденція ці рішення не були популярними але згодом з'ясувалося що єпископмав рацію\"]\n",
      "['VOXFORG/anonymous-20131220-whf/wav/spk_id_5848977_16142703522113.wav', 'розподіл української єпархії між галичанами які називали себе українцями та закарпатцями котрим більше подобався термін русини мав бути тимчасовим', 'розподіл української є партії між галичанами які називали себе українцями та за карпанцями котрембільше подобався термін русини мав бути тим часовим']\n",
      "['VOXFORG/anonymous-20131220-whf/wav/spk_id_5848977_16142703523393.wav', \"присвятивши це самобутнє та направду дуже притягальне дослідження пам'яті свого батька романа гайди керівник галереї равлик під час офіційної презентації видання\", \"присвятивши це самобутнє та неправду дуже притягальне дослідження пам'яті свого батька романагайди керівник галереі равликпід час офіційної презентації видання\"]\n",
      "['VOXFORG/anonymous-20131220-whf/wav/spk_id_5848977_16142703524653.wav', 'цікаво також те що це дослідження є тільки частиною широкомасштабного проекту маленького равлика щодо збереження популяризації та відновлення архітектурно-культурної спадщини міста', 'цікаво також те що це дослідження є кілька частиною широкомасштабного проекту маленьку равлика щодо збереження популяризації та відновлення архітектурно культурної спадщини міста']\n",
      "['VOXFORG/anonymous-20131220-whf/wav/spk_id_5848977_16142703525073.wav', 'і тільки тоді шлях простелився до ідеї видати книгу', 'і тільки тоді шлях простелився до ідеї видати книгу']\n",
      "['VOXFORG/anonymous-20131220-whf/wav/spk_id_5848977_16142703526353.wav', 'скажімо чи знали ми що найбільший львівський лев заввишки майже чотири метри розміщений біля сихівського кладовища', 'скажімо чи знали ми що найбільше львівськи лев завижки майже чотири метрі розміщений біля сихівського кладовища']\n",
      "['VOXFORG/anonymous-20131220-whf/wav/spk_id_5848977_16142703526753.wav', 'книгою книг виданих цьогоріч є архітектурно-культурологічне дослідження леви львова яке побачило світ завдяки ініціативі та зусиллям галереї равлик', 'книгою книг виданий цього річ є архітектурного культурологічне дослідження левильвова яке побачило світ завдяки ініціативи та зусиллям галереї равлик']\n",
      "['VOXFORG/anonymous-20131220-whf/wav/spk_id_5848977_16142703527153.wav', 'при цьому вона старається плекати такий духовний та емоційний клімат який сприяє пошуку власного художнього слова', 'при цьому вона старається пликати такий духовний та емоційний клімат який сприяє пошуку власного художнього слова']\n",
      "['VOXFORG/anonymous-20131220-whf/wav/spk_id_5848977_16142703527543.wav', \"а говорити є про що експозиція ненав'язлива легка сонячна\", \"а говорити є про що експозиція не нав'язлива легка сонячна\"]\n",
      "['VOXFORG/anonymous-20131220-whf/wav/spk_id_5848977_16142703527943.wav', 'нині у львові маємо шанс запізнати людину яка у своїй творчості поклоняється сонцю', 'нині у львові маємо шанс за пізнати людину яка у своїй творчості поклоняється сонцю']\n",
      "['VOXFORG/anonymous-20131222-ats/wav/spk_id_9946804_16142703529373.wav', 'знання без застосування мертве стояча вода швидко протухне знання яке зберігається швидко втрачає силу', 'знання без застосування мертва стоячи вода швидко протухне знання яке зберігається швидко втрачає силу']\n",
      "['VOXFORG/anonymous-20131222-ats/wav/spk_id_9946804_16142703529783.wav', 'завжди знайдуться люди які зроблять тобі боляче треба продовжувати довіряти людям просто бути трохи обережнішим', 'завжди знайдуться люди які зроблять тобі боляче треба продовжувати довіряти людям просто бути трохи обережнішим']\n",
      "['VOXFORG/anonymous-20131222-ats/wav/spk_id_9946804_16142703530243.wav', 'один хлопець поступається місцем знайомій дівчині і всю дорогу з нею жартує', 'один хлопець поступається місцем знайомі дівчини і всю дорогу з нею жартує']\n",
      "['VOXFORG/anonymous-20131222-ats/wav/spk_id_9946804_16142703530663.wav', 'тож не дивно що протягом тижня львовом поширювалися чутки що частину квитків нібито зняли з продажу саме через неготовність секторів', 'то ж не дивно що протягом тижня лівовом поширювалися чутки що частину квитківніби то зняли з продажу саме через не готовність секторів']\n",
      "['VOXFORG/anonymous-20131222-ats/wav/spk_id_9946804_16142703531093.wav', 'будить мій тато молодшого брата до школи', 'будуть міль тато молодшого брата до школи']\n",
      "['VOXFORG/anonymous-20131222-ats/wav/spk_id_9946804_16142703531643.wav', 'скільки коштуватиме організаторам дійство за участю української та американської зірки тримають у таємниці', 'скільки коштуватиме організаторам дійство за участю української та американської зірки тримають у таємниці']\n",
      "['VOXFORG/anonymous-20131222-ats/wav/spk_id_9946804_16142703532053.wav', 'скромніше але теж чимало просить за виступ руслана', 'скромніше але теж чи мало просить за виступ руслана']\n",
      "['VOXFORG/anonymous-20131222-ats/wav/spk_id_9946804_16142703532443.wav', 'іноді люди роблять зло іншим тільки через те що мають таку можливість', 'іноді люди роблять зло іншим тільки через те що мають таку можливість']\n",
      "['VOXFORG/anonymous-20131222-ats/wav/spk_id_9946804_16142703532823.wav', 'запрошення також роздали волонтерам студентам учням і будівникам спортивного майданчика', 'запрошення також роздали волонтерим студентам учням і будівникам спортивного майданчика']\n",
      "['VOXFORG/anonymous-20131222-ats/wav/spk_id_9946804_16142703534153.wav', 'не забувай про послуги які тобі надали але забудь про ті які ти сам комусь надав', 'не забувай про послуги які тобі на дали але забудь про ті які ти сам комусь на дав']\n",
      "['VOXFORG/anonymous-20131222-avl/wav/spk_id_9969932_16142703535893.wav', 'і тільки тоді шлях простелився до ідеї видати книгу', 'і тільки тоді шлях простелився до ідеї видати книгу']\n",
      "['VOXFORG/anonymous-20131222-avl/wav/spk_id_9969932_16142703537133.wav', 'скажімо чи знали ми що найбільший львівський лев заввишки майже чотири метри розміщений біля сихівського кладовища', 'скажімо чи знали ми що найбільший львівський лев завижки майже чотири метри розміщений біля сихівського кладовища']\n",
      "['VOXFORG/anonymous-20131222-avl/wav/spk_id_9969932_16142703537773.wav', 'книгою книг виданих цьогоріч є архітектурно-культурологічне дослідження леви львова яке побачило світ завдяки ініціативі та зусиллям галереї равлик', 'книгою книг виданий цього річ є архітектурно культурологічне дослідження лев львова яке побачила світ завдяки ініціативи та зусиллям галереї равлик']\n",
      "['VOXFORG/anonymous-20131222-avl/wav/spk_id_9969932_16142703539023.wav', 'при цьому вона старається плекати такий духовний та емоційний клімат який сприяє пошуку власного художнього слова', 'при цьому вона старається плакати такий духовний та емоційний клімат який сприяє пошук власного художнього слова']\n",
      "['VOXFORG/anonymous-20131222-avl/wav/spk_id_9969932_16142703540253.wav', \"а говорити є про що експозиція ненав'язлива легка сонячна\", \"а говорити є про що експозиція не нав'язлива легка сонячна\"]\n",
      "['VOXFORG/anonymous-20131222-avl/wav/spk_id_9969932_16142703540743.wav', 'нині у львові маємо шанс запізнати людину яка у своїй творчості поклоняється сонцю', 'нині у львові маємо шанс за пізнати людину яка у своїй творчості поклоняється сонцю']\n",
      "['VOXFORG/anonymous-20131222-avl/wav/spk_id_9969932_16142703541243.wav', 'головне ж під час лікування контакт із природою не злитися і не заздрити не ворогувати навчитися прощати образи', 'головне ж під час лікування контакт із природою не злитися і незаздрити не ворогувати навчитися прощати образи']\n",
      "['VOXFORG/anonymous-20131222-avl/wav/spk_id_9969932_16142703541603.wav', 'щодо ракових недуг то необхідно дотримуватися суворої дієти', 'що до ранкових не дух то необхідно дотримуватися суворої дієти']\n",
      "['VOXFORG/anonymous-20131222-avl/wav/spk_id_9969932_16142703542143.wav', \"здоров'я не знайдеш не подаруєш не вкрадеш його можна тільки напрацювати і не відкладати лікування на завтра бо завтра може і не настати\", \"здоров'я не знайдеш не подаруєш не вкрадеш його можна тільки на працювати і не відкладати лікування на завтра бо завтра може і не настати\"]\n",
      "['VOXFORG/anonymous-20131222-avl/wav/spk_id_9969932_16142703542733.wav', 'лише той щось значить хто щось любить не бути нічим і нічого не любити одне і те ж', 'лише то щось значить хто щось любить не буде нічим і нічого не любити одне і теж']\n",
      "['VOXFORG/anonymous-20131222-kue/wav/spk_id_3825965_16142703543963.wav', \"українська мова є однією з наймилозвучніших мов світу довкола походження та становлення української мови існує декілька гіпотез праслов'янська давньоруська південноруська та інші\", \"українська мова є однієюзний милозвучніших мов світу довкола походження та становленн української мови існує декілька гіпотез про слов'янська давня руська південноруська та інші\"]\n",
      "['VOXFORG/anonymous-20131222-kue/wav/spk_id_3825965_16142703544393.wav', 'а сонечко встане як перше вставало і зорі червоні як перше плили попливуть і потім і ти білолиций', 'а сонечко встане як перше вставала і зорі червоні як першплили по пливуті потім і ти біла лиці']\n",
      "['VOXFORG/anonymous-20131222-kue/wav/spk_id_3825965_16142703545013.wav', 'ще треті півні не співали ніхто нігде не гомонів', 'ще третє півні не співали ніхто ніде не гомонів']\n",
      "['VOXFORG/anonymous-20131222-kue/wav/spk_id_3825965_16142703545453.wav', 'людям не те що позакладало вуха людям позакладало душі', 'людям не те що по закладало вуха людям по закладало дуже']\n",
      "['VOXFORG/anonymous-20131222-kue/wav/spk_id_3825965_16142703546013.wav', 'жах не в тому що щось змінеться жах у тому що все може залишитися так само', 'жах не в тому що що й зміниться жаху тому що все може залишитися так само']\n",
      "['VOXFORG/anonymous-20131222-kue/wav/spk_id_3825965_16142703546413.wav', \"що сталося один раз ніколи не повториться а що сталося двічі обов'язково повториться\", \"що сталося один раз ніколи не повторится а що сталося двічі обов'язково повторится\"]\n",
      "['VOXFORG/anonymous-20131222-kue/wav/spk_id_3825965_16142703546783.wav', 'чимало аналогічних закидів пролунало й на згаданому обговоренні', 'чи мало аналогічних закладів пролунало й не згаденому обговорення']\n",
      "['VOXFORG/anonymous-20131222-kue/wav/spk_id_3825965_16142703547123.wav', 'і запропонував завершити дискусію про цей твір як літературний роман та розглядати його як соціальний памфлет і говорити не про те', 'і запропонував завершити дискусії про цей твір як літературний роман та розглядати як соціальний памфлет і говорити не про те']\n",
      "['VOXFORG/anonymous-20131222-kue/wav/spk_id_3825965_16142703547463.wav', 'вона починає фіксувати на свій смак і розсуд вести щоденник давати свою оцінку подій щось додавати щось відкидати', 'вона починає фіксувати на свій смаки розсуд вести щоденник давати свою оцінку подій щось додавати щось відкидати']\n",
      "['VOXFORG/anonymous-20131222-kue/wav/spk_id_3825965_16142703547803.wav', 'пізнавальними й цікавими також є умовні тематичні цикли', 'пізнавальними й цікавими також є умовні тематичні цикли']\n",
      "['VOXFORG/anonymous-20131222-mtm/wav/spk_id_9871332_16142703549253.wav', 'запрошення також роздали волонтерам студентам учням і будівникам спортивного майданчика', 'запрошення також роздали волонтерам студентам учням і будівникам спортивного майданчика']\n",
      "['VOXFORG/anonymous-20131222-mtm/wav/spk_id_9871332_16142703549883.wav', 'не забувай про послуги які тобі надали але забудь про ті які ти сам комусь надав', 'не забувай про послуги які тобі на дали але забудь про ті які ти сам комусь на дав']\n",
      "['VOXFORG/anonymous-20131222-mtm/wav/spk_id_9871332_16142703550253.wav', 'завжди здається що нас люблять за те що ми хороші і не здогадуємося що люблять нас тому що хорошими є ті хто нас любить', 'завжди здається що нас люблять за те що ми хороше й не здогадуємося о люблять нас тому що хорошими я ті хто нас любить']\n",
      "['VOXFORG/anonymous-20131222-mtm/wav/spk_id_9871332_16142703550853.wav', 'на ранок середи нібито було ухвалено рішення таки продавати їх', 'на ранок середи ніби то було ухвалене рішення таки продавати їх']\n",
      "['VOXFORG/anonymous-20131222-mtm/wav/spk_id_9871332_16142703551193.wav', 'водночас у тексті є багато думок на які хочеться відреагувати позитивно', 'в одно часу тексті є багато думок на які хочеться відреагувати позитивно']\n",
      "['VOXFORG/anonymous-20131222-mtm/wav/spk_id_9871332_16142703551773.wav', 'тяжкою працею з допомогою щоразу більшої групи прихильників своїх ідей і вірних духовний лідер розвинув структуру церкви яка зросла до митрополії', 'тяжкою працею з допомогою що разу більшої групи прихильникив своїх ідей і вірних духовний лідер розвинув структуру церкви яка зросла до митрополії']\n",
      "['VOXFORG/anonymous-20131222-mtm/wav/spk_id_9871332_16142703552483.wav', 'досі не бралася за цю тему вважаючи що це зробить хтось інший бо родинною історією не зай\\xadмалася', 'досі не бралася за цю тему вважаючи що це зробить хтось інші бо родинною історією не займалася']\n",
      "['VOXFORG/anonymous-20131222-mtm/wav/spk_id_9871332_16142703553753.wav', \"на початку його каденції ці рішення не були популярними але згодом з'ясувалося що єпископ мав рацію\", \"на початку його каденції ці рішення не були популярними але зводом з'ясувалося що єпископмав рацію\"]\n",
      "['VOXFORG/anonymous-20131222-mtm/wav/spk_id_9871332_16142703554373.wav', 'розподіл української єпархії між галичанами які називали себе українцями та закарпатцями котрим більше подобався термін русини мав бути тимчасовим', 'розподіл української єпархії між гличнами які називали себе українцями та за карпатцями котрим більше подобався терміну русини мав бути тим часовим']\n",
      "['VOXFORG/anonymous-20131222-mtm/wav/spk_id_9871332_16142703554993.wav', \"присвятивши це самобутнє та направду дуже притягальне дослідження пам'яті свого батька романа гайди керівник галереї равлик під час офіційної презентації видання\", \"присвятивши це самобутнє та на правду дуже притягальне дослідження пам'яті свого батька романагайде керівник галереі равликпідчас офіційної презентації видання\"]\n",
      "['VOXFORG/anonymous-20131222-pmk/wav/spk_id_5038411_16142703556343.wav', 'пізнавальними й цікавими також є умовні тематичні цикли', 'пізно вольними цікавими також є умовні тематичні цикли']\n",
      "['VOXFORG/anonymous-20131222-pmk/wav/spk_id_5038411_16142703556983.wav', 'взагалі мені здається все наше життя це чекання найгіршого і надія на краще', 'взагалі мені здається все наше життя це чекання найгіршого і надія на краще']\n",
      "['VOXFORG/anonymous-20131222-pmk/wav/spk_id_5038411_16142703557653.wav', \"холодний протяг неіснуючих днів висвистує все із пам'яті\", \"холодний протяг неіснуючих днів висвистує все із пам'яті\"]\n",
      "['VOXFORG/anonymous-20131222-pmk/wav/spk_id_5038411_16142703558013.wav', 'я переконана що в українi все ж iнша ситуацiя так я знаю що у вас теж не все так просто з полiтикою', 'я переконана що в україні все ж інша ситуація так я знаю що вас теж не все так просто з політикою']\n",
      "['VOXFORG/anonymous-20131222-pmk/wav/spk_id_5038411_16142703558553.wav', 'а як тiльки завадити то тут вони першi ось вони себе i викрили', 'а як тільки за водити то тут вони перші ось вони себе і викрали']\n",
      "['VOXFORG/anonymous-20131222-pmk/wav/spk_id_5038411_16142703558963.wav', 'я не розумiю навiщо полiтики залучають артистiв все-таки державна дума це ж не великий театр i не концертний зал i кожен повинен займатися своєю справою', 'я не розумію навіщо політики залучають артистів все-таки державна дума це ж не великий театр і не концертну й зал і кожен повинен займатися своєю справою']\n",
      "['VOXFORG/anonymous-20131222-pmk/wav/spk_id_5038411_16142703560313.wav', 'сьогодні в інституті відбулася урочиста церемонія відкриття лабораторії за участю науковців львівської політехніки', 'сьогодні в інституті відбулася урочиста церемонія відкриття лабораторії за участю науковців львівської політехніки']\n",
      "['VOXFORG/anonymous-20131222-pmk/wav/spk_id_5038411_16142703561033.wav', 'лабораторія отримала інститутський статус тут займатимуться студенти не лише інституту геодезії а й інших інститутів і кафедр політехніки', 'лабораторія отримала інститутський статус тут займатимутьсь студенти не лише інституту геодезії а інших інститутів і кафедрполітехніки']\n",
      "['VOXFORG/anonymous-20131222-pmk/wav/spk_id_5038411_16142703561633.wav', 'знання без застосування мертве стояча вода швидко протухне знання яке зберігається швидко втрачає силу', 'знання без застосування мертва стоячи вода швидко протугне знання яке зберігаються швидко втрачає силу']\n",
      "['VOXFORG/anonymous-20131222-pmk/wav/spk_id_5038411_16142703562953.wav', 'завжди знайдуться люди які зроблять тобі боляче треба продовжувати довіряти людям просто бути трохи обережнішим', 'завжди знайдуться люди які зроблять тобі боляче треба продовжувати довіряти людям просто бути трохи обережнішим']\n",
      "['VOXFORG/anonymous-20131222-uyh/wav/spk_id_3079304_16142703566953.wav', 'завжди здається що нас люблять за те що ми хороші і не здогадуємося що люблять нас тому що хорошими є ті хто нас любить', 'завжди здається що нас люблять за те що ми хороші і не здогадуємося що люблять нас тому що хорошим я ті хто наслюбить']\n",
      "['VOXFORG/anonymous-20131222-uyh/wav/spk_id_3079304_16142703568253.wav', 'на ранок середи нібито було ухвалено рішення таки продавати їх', 'на ранок середині би то було ухвалене рішення таки продавати їх']\n",
      "['VOXFORG/anonymous-20131222-uyh/wav/spk_id_3079304_16142703568833.wav', 'водночас у тексті є багато думок на які хочеться відреагувати позитивно', 'в одно часу тексті є багато думок на які хочеться відреагувати позитивно']\n",
      "['VOXFORG/anonymous-20131222-uyh/wav/spk_id_3079304_16142703570163.wav', 'тяжкою працею з допомогою щоразу більшої групи прихильників своїх ідей і вірних духовний лідер розвинув структуру церкви яка зросла до митрополії', 'тяжкою працею з допомогою щоразу більшої групи прихильників своїх ідей і вірних духовний лідер розвинув структуру церкви яка зросла до митрополії']\n",
      "['VOXFORG/anonymous-20131222-uyh/wav/spk_id_3079304_16142703570823.wav', 'досі не бралася за цю тему вважаючи що це зробить хтось інший бо родинною історією не зай\\xadмалася', 'досі не брались за цю тему вважаючи що це зробить хтось інший бо родиною історією не займалася']\n",
      "['VOXFORG/anonymous-20131222-uyh/wav/spk_id_3079304_16142703571333.wav', \"на початку його каденції ці рішення не були популярними але згодом з'ясувалося що єпископ мав рацію\", \"на початку його каденції ці рішення не були популярними але згодом з'ясувалося що єпископмав рацію\"]\n",
      "['VOXFORG/anonymous-20131222-uyh/wav/spk_id_3079304_16142703572633.wav', 'розподіл української єпархії між галичанами які називали себе українцями та закарпатцями котрим більше подобався термін русини мав бути тимчасовим', 'розподіл української єпархії між галичаними які називали ся е українцями та за карпатсями котрим більше подобавс термін русини мав бути тим часовим']\n",
      "['VOXFORG/anonymous-20131222-uyh/wav/spk_id_3079304_16142703573163.wav', \"присвятивши це самобутнє та направду дуже притягальне дослідження пам'яті свого батька романа гайди керівник галереї равлик під час офіційної презентації видання\", \"присвятивши це самобутнє та направду дуже притягальне дослідження пам'яті свого батька романагайди керівник галереї равликпідчас офіційної презентації видання\"]\n",
      "['VOXFORG/anonymous-20131222-uyh/wav/spk_id_3079304_16142703573803.wav', 'цікаво також те що це дослідження є тільки частиною широкомасштабного проекту маленького равлика щодо збереження популяризації та відновлення архітектурно-культурної спадщини міста', 'цікаво також те що це дослідження є тільки частиною широкомаштабного проекту маленькоо равлика щодо збереження популяризації та відновлення архітектурно культурної спадщини міста']\n",
      "['VOXFORG/anonymous-20131222-uyh/wav/spk_id_3079304_16142703575003.wav', 'і тільки тоді шлях простелився до ідеї видати книгу', 'і тільки тоді шлях про сталися до ідеї видати книгу']\n",
      "['VOXFORG/anonymous-20131222-vje/wav/spk_id_2759857_16142703576823.wav', 'іноді люди роблять зло іншим тільки через те що мають таку можливість', 'іноді люди роблять зло іншим тільки через те що мають таку можливість']\n",
      "['VOXFORG/anonymous-20131222-vje/wav/spk_id_2759857_16142703577433.wav', 'запрошення також роздали волонтерам студентам учням і будівникам спортивного майданчика', 'запрошення також роздали волонтерим студентам учням і будівникам спортивного майданчика']\n",
      "['VOXFORG/anonymous-20131222-vje/wav/spk_id_2759857_16142703577983.wav', 'не забувай про послуги які тобі надали але забудь про ті які ти сам комусь надав', 'не забувай про послуги які тобі надали але забудь про ті які ти сам комусь на дав']\n",
      "['VOXFORG/anonymous-20131222-vje/wav/spk_id_2759857_16142703578503.wav', 'завжди здається що нас люблять за те що ми хороші і не здогадуємося що люблять нас тому що хорошими є ті хто нас любить', 'завжди здається що нас люблять за те що ми хороші і не здогадуємося що люблять нас тому що хороше ми які хто нас любить']\n",
      "['VOXFORG/anonymous-20131222-vje/wav/spk_id_2759857_16142703579733.wav', 'на ранок середи нібито було ухвалено рішення таки продавати їх', 'на ранок середи нібито було ухвалене рішення таки продавати їх']\n",
      "['VOXFORG/anonymous-20131222-vje/wav/spk_id_2759857_16142703580253.wav', 'водночас у тексті є багато думок на які хочеться відреагувати позитивно', 'в одно часу тексті є багато думок на які хочеться від реагувати позитивно']\n",
      "['VOXFORG/anonymous-20131222-vje/wav/spk_id_2759857_16142703580783.wav', 'тяжкою працею з допомогою щоразу більшої групи прихильників своїх ідей і вірних духовний лідер розвинув структуру церкви яка зросла до митрополії', 'тяжкою працею з допомогою що разу більшої групи прихильникив своїх ідей і вірних духовній лідер розвинув структуру церкви яка зросла до митрополії']\n",
      "['VOXFORG/anonymous-20131222-vje/wav/spk_id_2759857_16142703582043.wav', 'досі не бралася за цю тему вважаючи що це зробить хтось інший бо родинною історією не зай\\xadмалася', 'досі не бралася за цю тему вважаючи що це зробить хтось інший бо родиною історією не займалася']\n",
      "['VOXFORG/anonymous-20131222-vje/wav/spk_id_2759857_16142703582623.wav', \"на початку його каденції ці рішення не були популярними але згодом з'ясувалося що єпископ мав рацію\", \"на початку його каденції ці рішення не були популярними але згодом з'ясувалося що єпископмав рацію\"]\n",
      "['VOXFORG/anonymous-20131222-vje/wav/spk_id_2759857_16142703583243.wav', 'розподіл української єпархії між галичанами які називали себе українцями та закарпатцями котрим більше подобався термін русини мав бути тимчасовим', 'розподіл української єпархіміж галичаними які називали себе українцями та за карпанцями котримбільше подовася термін русини мав бути тимчасовим']\n",
      "['VOXFORG/anonymous-20140818-gwg/wav/spk_id_4483916_16142703584633.wav', 'цікаво також те що це дослідження є тільки частиною широкомасштабного проекту маленького равлика щодо збереження популяризації та відновлення архітектурно-культурної спадщини міста', 'цікаво також те що це дослідження є тільки частиною широкомасштабно проекту маленького равлика щодо збереження популяризації та відновлення архітектурно культурної спадщини міста']\n",
      "['VOXFORG/anonymous-20140818-gwg/wav/spk_id_4483916_16142703585193.wav', 'і тільки тоді шлях простелився до ідеї видати книгу', 'і тільки тоді шлях простлився до ідеї видати книгу']\n",
      "['VOXFORG/anonymous-20140818-gwg/wav/spk_id_4483916_16142703586483.wav', 'скажімо чи знали ми що найбільший львівський лев заввишки майже чотири метри розміщений біля сихівського кладовища', 'скажімо чи знали ми що найбільше львівські лев заввижкі майже чотири метри розміщений біля сихівського кладовища']\n",
      "['VOXFORG/anonymous-20140818-gwg/wav/spk_id_4483916_16142703587863.wav', 'книгою книг виданих цьогоріч є архітектурно-культурологічне дослідження леви львова яке побачило світ завдяки ініціативі та зусиллям галереї равлик', 'книгою книг виданих цього річ є архітектурно культур логічне дослідження лев львова яке побачило світ завдяки ініціативи та зусиллям галереї раблик']\n",
      "['VOXFORG/anonymous-20140818-gwg/wav/spk_id_4483916_16142703589123.wav', 'при цьому вона старається плекати такий духовний та емоційний клімат який сприяє пошуку власного художнього слова', 'при цьому вона старається плакати такий духовний та емоційний клімат який сприяє пошуку власного художнього слова']\n",
      "['VOXFORG/anonymous-20140818-gwg/wav/spk_id_4483916_16142703590373.wav', \"а говорити є про що експозиція ненав'язлива легка сонячна\", \"говорити є про що експозиція ннев'язлива легка сонячна\"]\n",
      "['VOXFORG/anonymous-20140818-gwg/wav/spk_id_4483916_16142703591603.wav', 'нині у львові маємо шанс запізнати людину яка у своїй творчості поклоняється сонцю', 'нині у львові маємо шанс за пізнати людину яка у своїй творчості поклоняється сонцю']\n",
      "['VOXFORG/anonymous-20140818-gwg/wav/spk_id_4483916_16142703592998.wav', 'головне ж під час лікування контакт із природою не злитися і не заздрити не ворогувати навчитися прощати образи', 'головне ж під час лікування контакт із природою не злитися і не заздрити не гворогувати навчитися прощати образи']\n",
      "['VOXFORG/anonymous-20140818-gwg/wav/spk_id_4483916_16142703594298.wav', 'щодо ракових недуг то необхідно дотримуватися суворої дієти', 'що до ракових не дух то необхідно дотримуватися суворо й дієти']\n",
      "['VOXFORG/anonymous-20140818-gwg/wav/spk_id_4483916_16142703594878.wav', \"здоров'я не знайдеш не подаруєш не вкрадеш його можна тільки напрацювати і не відкладати лікування на завтра бо завтра може і не настати\", \"здоров'я не знайдеш не подаруєш не вкрадеш його можна тільки не працювати і не відкладати лікування на завтра бо завтра може й не на стати\"]\n",
      "['VOXFORG/anonymous-20140921-amp/wav/spk_id_4602866_16142703596238.wav', 'лабораторія отримала інститутський статус тут займатимуться студенти не лише інституту геодезії а й інших інститутів і кафедр політехніки', 'лабораторія отримала інститутський статус тут займатимоться студенти не лише інституту геодезії а й інших інститутів і кафадрполітехніки']\n",
      "['VOXFORG/anonymous-20140921-amp/wav/spk_id_4602866_16142703597578.wav', 'знання без застосування мертве стояча вода швидко протухне знання яке зберігається швидко втрачає силу', 'знання без застосування мертва стояча вода швидко протухне знання яке зберігаються швидко втрачає силу']\n",
      "['VOXFORG/anonymous-20140921-amp/wav/spk_id_4602866_16142703603858.wav', 'завжди знайдуться люди які зроблять тобі боляче треба продовжувати довіряти людям просто бути трохи обережнішим', 'завжди знайдуться люди які зроблять тобі боляче треба продовжувати довіряти людям просто бути трохи обережнішем']\n",
      "['VOXFORG/anonymous-20140921-amp/wav/spk_id_4602866_16142703604338.wav', 'один хлопець поступається місцем знайомій дівчині і всю дорогу з нею жартує', 'один хлопець поступається місцем знайомі дівчині і всю дорогу з неї жартує']\n",
      "['VOXFORG/anonymous-20140921-amp/wav/spk_id_4602866_16142703605568.wav', 'тож не дивно що протягом тижня львовом поширювалися чутки що частину квитків нібито зняли з продажу саме через неготовність секторів', 'то ж не дивно що протягом тижня львовом поширювалися чутки що частину квитків ніби то зняли з продажу саме через не готовністсекторів']\n",
      "['VOXFORG/anonymous-20140921-amp/wav/spk_id_4602866_16142703606079.wav', 'будить мій тато молодшого брата до школи', 'будить мій тато молодшого брата до школи']\n",
      "['VOXFORG/anonymous-20140921-amp/wav/spk_id_4602866_16142703606638.wav', 'скільки коштуватиме організаторам дійство за участю української та американської зірки тримають у таємниці', 'скільки коштуватиме організаторам дійство за участю української та американської зірки тримають у таємниці']\n",
      "['VOXFORG/anonymous-20140921-amp/wav/spk_id_4602866_16142703607838.wav', 'скромніше але теж чимало просить за виступ руслана', 'скромніше але те що мало просить за виступ руслана']\n",
      "['VOXFORG/anonymous-20140921-amp/wav/spk_id_4602866_16142703608398.wav', 'іноді люди роблять зло іншим тільки через те що мають таку можливість', 'іноді люди роблять зло іншим тільки через те що мають таку можливість']\n",
      "['VOXFORG/anonymous-20140921-amp/wav/spk_id_4602866_16142703608998.wav', 'запрошення також роздали волонтерам студентам учням і будівникам спортивного майданчика', 'запрошення також роздали волонтерам студентам учням і будівникам спортивного майданчика']\n",
      "['VOXFORG/anonymous-20150723-fjx/wav/spk_id_8324897_16142703610268.wav', 'нині у львові маємо шанс запізнати людину яка у своїй творчості поклоняється сонцю', 'нині у львові маємо шанс запизнати людину яка у свою творчості покланяється сонцю']\n",
      "['VOXFORG/anonymous-20150723-fjx/wav/spk_id_8324897_16142703610788.wav', 'головне ж під час лікування контакт із природою не злитися і не заздрити не ворогувати навчитися прощати образи', 'головне ж під час лікування контакти з природою не злитися і не заздрити не воргувати навчитися пращатиобразу']\n",
      "['VOXFORG/anonymous-20150723-fjx/wav/spk_id_8324897_16142703611339.wav', 'щодо ракових недуг то необхідно дотримуватися суворої дієти', 'що дараковихнедув та необхідно дотримуватися суворо дієти']\n",
      "['VOXFORG/anonymous-20150723-fjx/wav/spk_id_8324897_16142703612592.wav', \"здоров'я не знайдеш не подаруєш не вкрадеш його можна тільки напрацювати і не відкладати лікування на завтра бо завтра може і не настати\", \"здоров'я не знайдеш не подаруєш не вкрадеш його можна тільки не працювати і не відкладати лікування на завтра бо завтра може й не на стати\"]\n",
      "['VOXFORG/anonymous-20150723-fjx/wav/spk_id_8324897_16142703616823.wav', 'лише той щось значить хто щось любить не бути нічим і нічого не любити одне і те ж', 'але ж а той що значить хто щось любить не бути нічим і нічого не любити одне й теж']\n",
      "['VOXFORG/anonymous-20150723-fjx/wav/spk_id_8324897_16142703622391.wav', 'кажуть минає все окрім самотності', 'кажуть мене не все на крім самотність']\n",
      "['VOXFORG/anonymous-20150723-fjx/wav/spk_id_8324897_16142703623758.wav', 'майже щоденно хтось із них помирає але вони навіть не зважають на це і живуть так немовби завжди на тій землі жити мають', 'майже щоденно хтось із них помирає але вони навіть не зважають на це і живо так не мовби завжди на ті землі жити мають']\n",
      "['VOXFORG/anonymous-20150723-fjx/wav/spk_id_8324897_16142703624129.wav', 'вона вісім років не мала дітей і от нарешті була при надії', 'вона вісім років не мали дітей і от нарешті була при надії']\n",
      "['VOXFORG/anonymous-20150723-fjx/wav/spk_id_8324897_16142703625501.wav', 'три наріччя української мови виділялися не завжди за давньоруської доби на території сучасної україни населення утворювало дві етнічно-мовні групи північно-східну і південно-західну', 'три на річі української мови виділялися не завжди за давні руської доби на території сучасної україни населення отворювало дві отнічномовні групи північносхідно і південнозахідно']\n",
      "['VOXFORG/anonymous-20150723-fjx/wav/spk_id_8324897_16142703634085.wav', \"українська мова є однією з наймилозвучніших мов світу довкола походження та становлення української мови існує декілька гіпотез праслов'янська давньоруська південноруська та інші\", \"українська мова є однією з наймолозвучніших мов світу довкола походження та становлення української мови існую декілька гіпотез бра слов'янська давня руська південна руська та інші\"]\n",
      "['VOXFORG/anonymous-20150723-fta/wav/spk_id_8256002_16142703645299.wav', 'на ранок середи нібито було ухвалено рішення таки продавати їх', 'на ранок серади ніби то було ухвалене рішення так і продавати їх']\n",
      "['VOXFORG/anonymous-20150723-fta/wav/spk_id_8256002_16142703651569.wav', 'водночас у тексті є багато думок на які хочеться відреагувати позитивно', 'водночас у тексті я багато думок на які хочеться відрагувати позитивно']\n",
      "['VOXFORG/anonymous-20150723-fta/wav/spk_id_8256002_16142703652815.wav', 'тяжкою працею з допомогою щоразу більшої групи прихильників своїх ідей і вірних духовний лідер розвинув структуру церкви яка зросла до митрополії', 'тяжкої праци з допомоги ще разу більше групи прихильникив своїх ідей і вірних духовни лідер розвинув структуру церкви яка зросла до митрополії']\n",
      "['VOXFORG/anonymous-20150723-fta/wav/spk_id_8256002_16142703669106.wav', 'досі не бралася за цю тему вважаючи що це зробить хтось інший бо родинною історією не зай\\xadмалася', 'досі набрались за цю тему вважаючись що це зробить хтось інше бо родину історію не займалася']\n",
      "['VOXFORG/anonymous-20150723-fta/wav/spk_id_8256002_16142703670345.wav', \"на початку його каденції ці рішення не були популярними але згодом з'ясувалося що єпископ мав рацію\", \"на початку його каденції ці рішення не були популярними але згодом з'ясувалася що япископмаврацію\"]\n",
      "['VOXFORG/anonymous-20150723-fta/wav/spk_id_8256002_16142703672065.wav', 'розподіл української єпархії між галичанами які називали себе українцями та закарпатцями котрим більше подобався термін русини мав бути тимчасовим', 'розподіл української єпархі між галичанами які називали себе українцями та за карпатсями катре більше подобався терміну русини мав бути тимчасови']\n",
      "['VOXFORG/anonymous-20150723-fta/wav/spk_id_8256002_16142703673365.wav', \"присвятивши це самобутнє та направду дуже притягальне дослідження пам'яті свого батька романа гайди керівник галереї равлик під час офіційної презентації видання\", \"присвятивши це самобутнє та направдо дуже притягальне дослідження пам'яті свого батька роман гайди керівник галерейрав лих під час офіційної презентації видання\"]\n",
      "['VOXFORG/anonymous-20150723-fta/wav/spk_id_8256002_16142703673936.wav', 'цікаво також те що це дослідження є тільки частиною широкомасштабного проекту маленького равлика щодо збереження популяризації та відновлення архітектурно-культурної спадщини міста', 'цікаво також те що це дослідження тільки частини широко маштабного проекту маленька равлика щодо збереження популяризація та відновлення архітектурнкультурної спадщини міста']\n",
      "['VOXFORG/anonymous-20150723-fta/wav/spk_id_8256002_16142703675266.wav', 'і тільки тоді шлях простелився до ідеї видати книгу', 'і тільки тоді шлях просталився до ідея видати книга']\n",
      "['VOXFORG/anonymous-20150723-fta/wav/spk_id_8256002_16142703675785.wav', 'скажімо чи знали ми що найбільший львівський лев заввишки майже чотири метри розміщений біля сихівського кладовища', 'скажімо чи знали ми що найбільш лііськілев залишки майже чотири метр розміщений біля сигівського кладовище']\n",
      "['VOXFORG/anonymous-20150723-jsi/wav/spk_id_9875617_16142703678246.wav', 'вона починає фіксувати на свій смак і розсуд вести щоденник давати свою оцінку подій щось додавати щось відкидати', 'вона починає фіксувати на свій смаки розсуд вести щоденних давати свою цінку події щось додавати щось відкидати']\n",
      "['VOXFORG/anonymous-20150723-jsi/wav/spk_id_9875617_16142703678856.wav', 'пізнавальними й цікавими також є умовні тематичні цикли', 'пізнавальними цікавими також є умовні тематичні цикли']\n",
      "['VOXFORG/anonymous-20150723-jsi/wav/spk_id_9875617_16142703681595.wav', 'взагалі мені здається все наше життя це чекання найгіршого і надія на краще', 'взагалі мені здається все наша життя це чекання найгірше і надія найкраще']\n",
      "['VOXFORG/anonymous-20150723-jsi/wav/spk_id_9875617_16142703682235.wav', \"холодний протяг неіснуючих днів висвистує все із пам'яті\", \"холодний протяг не існуючі днів ви свити все з пам'ять\"]\n",
      "['VOXFORG/anonymous-20150723-jsi/wav/spk_id_9875617_16142703683475.wav', 'я переконана що в українi все ж iнша ситуацiя так я знаю що у вас теж не все так просто з полiтикою', 'я переконана що в україні все ж інша ситуація так я знаю що вас теж не все так просто з політикою']\n",
      "['VOXFORG/anonymous-20150723-jsi/wav/spk_id_9875617_16142703684706.wav', 'а як тiльки завадити то тут вони першi ось вони себе i викрили', 'а як тільки завадите то тут вони перші ось вона себе викрала']\n",
      "['VOXFORG/anonymous-20150723-jsi/wav/spk_id_9875617_16142703685156.wav', 'я не розумiю навiщо полiтики залучають артистiв все-таки державна дума це ж не великий театр i не концертний зал i кожен повинен займатися своєю справою', 'я не розумію навіщо політики заличають артистів все такі державна дума це ж не великий театр і не концерт не за і кожен повинен займатися свою справи']\n",
      "['VOXFORG/anonymous-20150723-jsi/wav/spk_id_9875617_16142703686396.wav', 'сьогодні в інституті відбулася урочиста церемонія відкриття лабораторії за участю науковців львівської політехніки', 'сьогодні в інституті відбулася орочиста церемонія відкриття лабораторії за участі науковців люїської політехніки']\n",
      "['VOXFORG/anonymous-20150723-jsi/wav/spk_id_9875617_16142703687066.wav', 'лабораторія отримала інститутський статус тут займатимуться студенти не лише інституту геодезії а й інших інститутів і кафедр політехніки', 'лабораторія отримала інститутській статус тут займатимоься студенти не лише інститут геодезі а інших інститутів якафедропало технік']\n",
      "['VOXFORG/anonymous-20150723-jsi/wav/spk_id_9875617_16142703687486.wav', 'знання без застосування мертве стояча вода швидко протухне знання яке зберігається швидко втрачає силу', 'знання без застосування мертва стояча вода швидко протухне знання яке зберігаються швидко втрачає силу']\n",
      "['VOXFORG/anonymous-20150723-mom/wav/spk_id_7345635_16142703689076.wav', 'щодо ракових недуг то необхідно дотримуватися суворої дієти', 'що даракових не дух та необхідно дотримуватися суворий дієти']\n",
      "['VOXFORG/anonymous-20150723-mom/wav/spk_id_7345635_16142703689676.wav', \"здоров'я не знайдеш не подаруєш не вкрадеш його можна тільки напрацювати і не відкладати лікування на завтра бо завтра може і не настати\", \"здоров'я не знайдеш не подаруєш не вкрадеш його можна тільки на працювати і не відкладати лікування на завтра бо завтра може і не на стати\"]\n",
      "['VOXFORG/anonymous-20150723-mom/wav/spk_id_7345635_16142703690906.wav', 'лише той щось значить хто щось любить не бути нічим і нічого не любити одне і те ж', 'лише той що значить хто щось любить не бути нічим і нічого не любити одне й теж']\n",
      "['VOXFORG/anonymous-20150723-mom/wav/spk_id_7345635_16142703691506.wav', 'кажуть минає все окрім самотності', 'кажуть мене є все крім самотность']\n",
      "['VOXFORG/anonymous-20150723-mom/wav/spk_id_7345635_16142703692826.wav', 'майже щоденно хтось із них помирає але вони навіть не зважають на це і живуть так немовби завжди на тій землі жити мають', 'майже щоденно хто що з них помирає але вони навіть не зважають на це і живуть так не мовби завжди на ті землі жити мають']\n",
      "['VOXFORG/anonymous-20150723-mom/wav/spk_id_7345635_16142703694126.wav', 'вона вісім років не мала дітей і от нарешті була при надії', 'вона вісім років не мала дітей і от нарешті була при надії']\n",
      "['VOXFORG/anonymous-20150723-mom/wav/spk_id_7345635_16142703695236.wav', 'три наріччя української мови виділялися не завжди за давньоруської доби на території сучасної україни населення утворювало дві етнічно-мовні групи північно-східну і південно-західну', 'три на річі української мови виділялися на завжди за давно руської до бога території сучасної країни населення отворювало дві етнічномовні групи північносхідно і південнозахіду']\n",
      "['VOXFORG/anonymous-20150723-mom/wav/spk_id_7345635_16142703696646.wav', \"українська мова є однією з наймилозвучніших мов світу довкола походження та становлення української мови існує декілька гіпотез праслов'янська давньоруська південноруська та інші\", \"українська мова є однієї знаймилозвучніших мов світу довкола походження та становлення української мови існую декілька гіпотез пре слов'янська давно руська південнаруська та інші\"]\n",
      "['VOXFORG/anonymous-20150723-mom/wav/spk_id_7345635_16142703697926.wav', 'а сонечко встане як перше вставало і зорі червоні як перше плили попливуть і потім і ти білолиций', 'а санечковстане як перша вставала і зорі червоні як перша плилипоплавуті потім і ти білолици']\n",
      "['VOXFORG/anonymous-20150723-mom/wav/spk_id_7345635_16142703699276.wav', 'ще треті півні не співали ніхто нігде не гомонів', 'ще третє півні не співали ніхто ніде нога мені']\n",
      "['VOXFORG/atmoliton-20131220-nuh/wav/spk_id_2099950_16142703700616.wav', 'завжди здається що нас люблять за те що ми хороші і не здогадуємося що люблять нас тому що хорошими є ті хто нас любить', 'завжди здається що нас люблять за те що ми хороше і не здогадуємося щоо люблять нас тому що хорошим і які хто нас любить']\n",
      "['VOXFORG/atmoliton-20131220-nuh/wav/spk_id_2099950_16142703701766.wav', 'на ранок середи нібито було ухвалено рішення таки продавати їх', 'на ранок середи ніби то було ухвалене рішення таки продавати їх']\n",
      "['VOXFORG/atmoliton-20131220-nuh/wav/spk_id_2099950_16142703702276.wav', 'водночас у тексті є багато думок на які хочеться відреагувати позитивно', 'в одно часу тексті є багато думок на які хочеться від реагувати позитивно']\n",
      "['VOXFORG/atmoliton-20131220-nuh/wav/spk_id_2099950_16142703702746.wav', 'тяжкою працею з допомогою щоразу більшої групи прихильників своїх ідей і вірних духовний лідер розвинув структуру церкви яка зросла до митрополії', 'тяжкою працею з допомогою що разу більшої групи прихильників своїх ідей і вірних духовний лідер розвинув структуру церкви яка зросла до митрополії']\n",
      "['VOXFORG/atmoliton-20131220-nuh/wav/spk_id_2099950_16142703703106.wav', 'досі не бралася за цю тему вважаючи що це зробить хтось інший бо родинною історією не зай\\xadмалася', 'досі не бралася за цю тему вважаючи що це зробить хтось інший бо родиною історією не займалася']\n",
      "['VOXFORG/atmoliton-20131220-nuh/wav/spk_id_2099950_16142703703466.wav', \"на початку його каденції ці рішення не були популярними але згодом з'ясувалося що єпископ мав рацію\", \"на початку його каденції ці рішення не були популярними але згодом з'ясувалося що епископмав рацію\"]\n",
      "['VOXFORG/atmoliton-20131220-nuh/wav/spk_id_2099950_16142703703836.wav', 'розподіл української єпархії між галичанами які називали себе українцями та закарпатцями котрим більше подобався термін русини мав бути тимчасовим', 'розподіл української єпархію між гаичанами які називали себе українцями та за карпанцями котрі більше подобався терміну русини мав бути тимчасовим']\n",
      "['VOXFORG/atmoliton-20131220-nuh/wav/spk_id_2099950_16142703704236.wav', \"присвятивши це самобутнє та направду дуже притягальне дослідження пам'яті свого батька романа гайди керівник галереї равлик під час офіційної презентації видання\", \"присвятивши це самобутнє та на правду дуже притягальне дослідження пам'яті свого батька романагайди керівник галереїравлик під час офіцільної презентації видання\"]\n",
      "['VOXFORG/atmoliton-20131220-nuh/wav/spk_id_2099950_16142703704616.wav', 'цікаво також те що це дослідження є тільки частиною широкомасштабного проекту маленького равлика щодо збереження популяризації та відновлення архітектурно-культурної спадщини міста', 'цікаво також те що це дослідження є тільки частиною широкомасштабного проекту маленьку равлика щодо збереження популяризації та відновлення архітектурно культурної спадщини міста']\n",
      "['VOXFORG/atmoliton-20131220-nuh/wav/spk_id_2099950_16142703704996.wav', 'і тільки тоді шлях простелився до ідеї видати книгу', 'і тільки тоді шлях простелився до ідеї видати книгу']\n",
      "['VOXFORG/atmoliton-20140921-lyt/wav/spk_id_6442155_16142703706276.wav', 'і запропонував завершити дискусію про цей твір як літературний роман та розглядати його як соціальний памфлет і говорити не про те', 'і запропонував завершити дискусії про цей твір як літературний роман та розглядати його як соціальний памфлет і говорити не про те']\n",
      "['VOXFORG/atmoliton-20140921-lyt/wav/spk_id_6442155_16142703707566.wav', 'вона починає фіксувати на свій смак і розсуд вести щоденник давати свою оцінку подій щось додавати щось відкидати', 'вона починає фіксувати на свій смак і розсуд вести щоденник давати свою оцінку подій щось додавати щось відкидати']\n",
      "['VOXFORG/atmoliton-20140921-lyt/wav/spk_id_6442155_16142703708836.wav', 'пізнавальними й цікавими також є умовні тематичні цикли', 'пізнавальними й цікавими також є умовні тематичні цикли']\n",
      "['VOXFORG/atmoliton-20140921-lyt/wav/spk_id_6442155_16142703710186.wav', 'взагалі мені здається все наше життя це чекання найгіршого і надія на краще', 'взагалі мені здається все наше життя це чекання найгіршого і надія найкраще']\n",
      "['VOXFORG/atmoliton-20140921-lyt/wav/spk_id_6442155_16142703710746.wav', \"холодний протяг неіснуючих днів висвистує все із пам'яті\", \"холодний протяг не існуючих днів висвистує все із пам'яті\"]\n",
      "['VOXFORG/atmoliton-20140921-lyt/wav/spk_id_6442155_16142703718726.wav', 'я переконана що в українi все ж iнша ситуацiя так я знаю що у вас теж не все так просто з полiтикою', 'я переконана що в україні все ж інша ситуація так я знаю що у вас теж не все так просто з політикою']\n",
      "['VOXFORG/atmoliton-20140921-lyt/wav/spk_id_6442155_16142703719256.wav', 'а як тiльки завадити то тут вони першi ось вони себе i викрили', 'а як тільки заводити то тут вони перші ось вони себе і викрили']\n",
      "['VOXFORG/atmoliton-20140921-lyt/wav/spk_id_6442155_16142703719676.wav', 'я не розумiю навiщо полiтики залучають артистiв все-таки державна дума це ж не великий театр i не концертний зал i кожен повинен займатися своєю справою', 'я не розумію навіщо політики залучають артистів все таке державна дума це ж не великий театр і не концерт ній зал і кожен повинен займатися своєю справою']\n",
      "['VOXFORG/atmoliton-20140921-lyt/wav/spk_id_6442155_16142703720066.wav', 'сьогодні в інституті відбулася урочиста церемонія відкриття лабораторії за участю науковців львівської політехніки', 'сьогодні в інституті відбулася урочисто церемонія відкриття лабораторії за участю науковців львівської політехніки']\n",
      "['VOXFORG/atmoliton-20140921-lyt/wav/spk_id_6442155_16142703721296.wav', 'лабораторія отримала інститутський статус тут займатимуться студенти не лише інституту геодезії а й інших інститутів і кафедр політехніки', 'лабораторія отримала інститутський статус тут займатимоться студенти не лише інституту геодезії а інших інститутів і кафедрполітехніки']\n",
      "['VOXFORG/Darrr-20170412-jau/wav/spk_id_2732409_16142703722546.wav', 'щодо ракових недуг то необхідно дотримуватися суворої дієти', 'що дораколих не дух то необхідно дотримуватися суворо дієти']\n",
      "['VOXFORG/Darrr-20170412-jau/wav/spk_id_2732409_16142703723076.wav', \"здоров'я не знайдеш не подаруєш не вкрадеш його можна тільки напрацювати і не відкладати лікування на завтра бо завтра може і не настати\", \"здоров'я не знайдеш не подорож не вкрадеш його можна тільки на працювати і не відкладати вкування на завтра про завтаможе не на стати\"]\n",
      "['VOXFORG/Darrr-20170412-jau/wav/spk_id_2732409_16142703723596.wav', 'лише той щось значить хто щось любить не бути нічим і нічого не любити одне і те ж', 'лише той щось значить хто щось любить не бути нічим і нічого не любити одне й теж']\n",
      "['VOXFORG/Darrr-20170412-jau/wav/spk_id_2732409_16142703723996.wav', 'кажуть минає все окрім самотності', 'кажуть мене все окрім самотністі']\n",
      "['VOXFORG/Darrr-20170412-jau/wav/spk_id_2732409_16142703724456.wav', 'майже щоденно хтось із них помирає але вони навіть не зважають на це і живуть так немовби завжди на тій землі жити мають', 'майже щоденно хтось із них помирає але вони навіть не зважають на це і живуть так нема бо завжди на ті землі же ти мають']\n",
      "['VOXFORG/Darrr-20170412-jau/wav/spk_id_2732409_16142703724896.wav', 'вона вісім років не мала дітей і от нарешті була при надії', 'вона вісім років не мала дітей і од нарешті була при надії']\n",
      "['VOXFORG/Darrr-20170412-jau/wav/spk_id_2732409_16142703725336.wav', 'три наріччя української мови виділялися не завжди за давньоруської доби на території сучасної україни населення утворювало дві етнічно-мовні групи північно-східну і південно-західну', 'три нарідтя української мови віділялися не завжди задумано руськї доби на териорії сучасної україни населення утворювалиді етнічної мовні групи північносхідно і південну західно']\n",
      "['VOXFORG/Darrr-20170412-jau/wav/spk_id_2732409_16142703726606.wav', \"українська мова є однією з наймилозвучніших мов світу довкола походження та становлення української мови існує декілька гіпотез праслов'янська давньоруська південноруська та інші\", \"українська мова є однією займало зучніших мов світу до вколи похдження та становлення української мови існує декілька гіпотез про слов'янська давня руська південноруська та інші\"]\n",
      "['VOXFORG/Darrr-20170412-jau/wav/spk_id_2732409_16142703727116.wav', 'а сонечко встане як перше вставало і зорі червоні як перше плили попливуть і потім і ти білолиций', 'а сонечко в стане як перше вставала і зорі червоні як перше пили по пливуті потім і ти біла лици']\n",
      "['VOXFORG/Darrr-20170412-jau/wav/spk_id_2732409_16142703727516.wav', 'ще треті півні не співали ніхто нігде не гомонів', 'ще третє півні не співали ніхто ніде нього мені']\n",
      "['VOXFORG/dmitriytim-20160401-nga/wav/spk_id_2501493_16142703728856.wav', 'сьогодні в інституті відбулася урочиста церемонія відкриття лабораторії за участю науковців львівської політехніки', 'сьогодні в інституті відбулося урочисто церемонія відкриття лабораторії за участю науковців львівської полі техніки']\n",
      "['VOXFORG/dmitriytim-20160401-nga/wav/spk_id_2501493_16142703729456.wav', 'лабораторія отримала інститутський статус тут займатимуться студенти не лише інституту геодезії а й інших інститутів і кафедр політехніки', 'лабораторія отримали інститутській статус тут займаються студенти не лише інституту гіадезії а інших інститутів і кафетрполю техніки']\n",
      "['VOXFORG/dmitriytim-20160401-nga/wav/spk_id_2501493_16142703730126.wav', 'знання без застосування мертве стояча вода швидко протухне знання яке зберігається швидко втрачає силу', 'знання без застаслування мертве стояче вода швидко протухне знання який зберігаються швидко втрачає силу']\n",
      "['VOXFORG/dmitriytim-20160401-nga/wav/spk_id_2501493_16142703731395.wav', 'завжди знайдуться люди які зроблять тобі боляче треба продовжувати довіряти людям просто бути трохи обережнішим', 'завжди знайдуться люди які зроблять тобі боляче треба продовжувати довіряти людям просто бути трохи обережнішим']\n",
      "['VOXFORG/dmitriytim-20160401-nga/wav/spk_id_2501493_16142703731915.wav', 'один хлопець поступається місцем знайомій дівчині і всю дорогу з нею жартує', 'один хлопець поступається місцем знайомі дівчині і всю дорогу з нею жартує']\n",
      "['VOXFORG/dmitriytim-20160401-nga/wav/spk_id_2501493_16142703733155.wav', 'тож не дивно що протягом тижня львовом поширювалися чутки що частину квитків нібито зняли з продажу саме через неготовність секторів', 'то ж не дивно що протягом тижня львовом пошируються чутки що частину квитків ніби то зняли з продажу саме через не готовнісекторів']\n",
      "['VOXFORG/dmitriytim-20160401-nga/wav/spk_id_2501493_16142703733695.wav', 'будить мій тато молодшого брата до школи', 'будить мій тато молодшого брата до школи']\n",
      "['VOXFORG/dmitriytim-20160401-nga/wav/spk_id_2501493_16142703734395.wav', 'скільки коштуватиме організаторам дійство за участю української та американської зірки тримають у таємниці', 'скільки коштувати організатором дійство за участю української то американської зірки тримають у таємниці']\n",
      "['VOXFORG/dmitriytim-20160401-nga/wav/spk_id_2501493_16142703734975.wav', 'скромніше але теж чимало просить за виступ руслана', 'скромніше але теж чимало просить за виступ руслана']\n",
      "['VOXFORG/dmitriytim-20160401-nga/wav/spk_id_2501493_16142703735325.wav', 'іноді люди роблять зло іншим тільки через те що мають таку можливість', 'іноді люди роблять зло іншим тільки через те що мають таку можливість']\n",
      "['VOXFORG/Neverice-20150322-ecd/wav/spk_id_5566461_16142703736625.wav', 'водночас у тексті є багато думок на які хочеться відреагувати позитивно', 'в одного часу тексті є багато думок на які хочеться від реагувати позитивно']\n",
      "['VOXFORG/Neverice-20150322-ecd/wav/spk_id_5566461_16142703737825.wav', 'тяжкою працею з допомогою щоразу більшої групи прихильників своїх ідей і вірних духовний лідер розвинув структуру церкви яка зросла до митрополії', 'тяжкої працею з допомогою ще разу більше групи прихильників своїх ідей вірних духовний лідер розвину структури церкви яка зрослаа до митрополії']\n",
      "['VOXFORG/Neverice-20150322-ecd/wav/spk_id_5566461_16142703739105.wav', 'досі не бралася за цю тему вважаючи що це зробить хтось інший бо родинною історією не зай\\xadмалася', 'досі не брались за цю тему вважаючи що це зробить хтось інший бо родиною історію не займалася']\n",
      "['VOXFORG/Neverice-20150322-ecd/wav/spk_id_5566461_16142703739605.wav', \"на початку його каденції ці рішення не були популярними але згодом з'ясувалося що єпископ мав рацію\", \"на початку його каденції ці рішення не були популярними але згодом з'ясувалося що є писка в мав рацію\"]\n",
      "['VOXFORG/Neverice-20150322-ecd/wav/spk_id_5566461_16142703740895.wav', 'розподіл української єпархії між галичанами які називали себе українцями та закарпатцями котрим більше подобався термін русини мав бути тимчасовим', 'розподіл української єпархії між галичанами які називали себе українцями та газакарпацями котрі більше подалися терміни русини мав бути тимчасовим']\n",
      "['VOXFORG/Neverice-20150322-ecd/wav/spk_id_5566461_16142703742245.wav', \"присвятивши це самобутнє та направду дуже притягальне дослідження пам'яті свого батька романа гайди керівник галереї равлик під час офіційної презентації видання\", \"присвятивши це самобутнє то направду дуже притягальне дослідження пам'яті свого батька ароманагайди керівник галереї равлик під час офіційно презентації видання\"]\n",
      "['VOXFORG/Neverice-20150322-ecd/wav/spk_id_5566461_16142703743595.wav', 'цікаво також те що це дослідження є тільки частиною широкомасштабного проекту маленького равлика щодо збереження популяризації та відновлення архітектурно-культурної спадщини міста', 'цікаво також те що це дослідження є тільки частини шекрирокама штабного проекту маленького равлика щодо збереження популяризації тевтідновлення архітектурокультурної спадщині міста']\n",
      "['VOXFORG/Neverice-20150322-ecd/wav/spk_id_5566461_16142703744949.wav', 'і тільки тоді шлях простелився до ідеї видати книгу', 'і тілька тоді шлях простелився до ідеї видати книгу']\n",
      "['VOXFORG/Neverice-20150322-ecd/wav/spk_id_5566461_16142703745459.wav', 'скажімо чи знали ми що найбільший львівський лев заввишки майже чотири метри розміщений біля сихівського кладовища', 'скажімо чи знали ми що найбільший львіскилев завившки майже то чотири метри розміщений біля цихівського кладовища']\n",
      "['VOXFORG/Neverice-20150322-ecd/wav/spk_id_5566461_16142703745992.wav', 'книгою книг виданих цьогоріч є архітектурно-культурологічне дослідження леви львова яке побачило світ завдяки ініціативі та зусиллям галереї равлик', 'книга й книг виданих цього річ є архітектурного культурологічне дослідження левильвова яке побачила світ завдяки ініціативи та за силі моглиреї равлик']\n",
      "['VOXFORG/Taras-20160318-ewy/wav/spk_id_1714329_16142703747302.wav', 'лише той щось значить хто щось любить не бути нічим і нічого не любити одне і те ж', 'лише той щось значить хто щось любить не бути ті чим і і олелюбити однийтеж']\n",
      "['VOXFORG/Taras-20160318-ewy/wav/spk_id_1714329_16142703748552.wav', 'кажуть минає все окрім самотності', 'кажуть мене є все окрім самотністі']\n",
      "['VOXFORG/Taras-20160318-ewy/wav/spk_id_1714329_16142703749972.wav', 'майже щоденно хтось із них помирає але вони навіть не зважають на це і живуть так немовби завжди на тій землі жити мають', 'майже що де но хтось із них помирає але вони навіть не зважаютьтце із у так не у у ви завжди на і зі жити мають']\n",
      "['VOXFORG/Taras-20160318-ewy/wav/spk_id_1714329_16142703750502.wav', 'вона вісім років не мала дітей і от нарешті була при надії', 'а на вісім років не мала діти и одна ристь була крана діла']\n",
      "['VOXFORG/Taras-20160318-ewy/wav/spk_id_1714329_16142703751052.wav', 'три наріччя української мови виділялися не завжди за давньоруської доби на території сучасної україни населення утворювало дві етнічно-мовні групи північно-східну і південно-західну', 'три не рідше українські мови виділяли за ви завтра за давні руської до два елітою сучасної україни веселий мотороидзі і існумоих руки пісні східні і південних засіла']\n",
      "['VOXFORG/Taras-20160318-ewy/wav/spk_id_1714329_16142703752332.wav', \"українська мова є однією з наймилозвучніших мов світу довкола походження та становлення української мови існує декілька гіпотез праслов'янська давньоруська південноруська та інші\", \"українська мова є і здавило зручнісіхмосінки до кого походження та станолоікіськї мови існує деклагіпотсь православ'яська дані русь ідемо руська та інші\"]\n",
      "['VOXFORG/Taras-20160318-ewy/wav/spk_id_1714329_16142703754872.wav', 'а сонечко встане як перше вставало і зорі червоні як перше плили попливуть і потім і ти білолиций', 'а сонечко встав і як перше ставало із орічірвонію перше пили по пливуть оті і ті діло лиці']\n",
      "['VOXFORG/Taras-20160318-ewy/wav/spk_id_1714329_16142703756162.wav', 'ще треті півні не співали ніхто нігде не гомонів', 'сокритікільі не співали ніхто нігде ого мою']\n",
      "['VOXFORG/Taras-20160318-ewy/wav/spk_id_1714329_16142703756792.wav', 'людям не те що позакладало вуха людям позакладало душі', 'людям лити сю по закладу уха дія по закладалидусі']\n",
      "['VOXFORG/Taras-20160318-ewy/wav/spk_id_1714329_16142703758052.wav', 'жах не в тому що щось змінеться жах у тому що все може залишитися так само', 'жах не в тому що щось ставиться а жаху тому що все може зводить вчитися так само']\n",
      "['VOXFORG/Taras-20160318-mxu/wav/spk_id_6703266_16142703759442.wav', 'людям не те що позакладало вуха людям позакладало душі', 'людям не ти що по закладалуха людям по закладалидуші']\n",
      "['VOXFORG/Taras-20160318-mxu/wav/spk_id_6703266_16142703760762.wav', 'жах не в тому що щось змінеться жах у тому що все може залишитися так само', 'жах не в тому що що зміниться жаху тому що все може залишитися так само']\n",
      "['VOXFORG/Taras-20160318-mxu/wav/spk_id_6703266_16142703762032.wav', \"що сталося один раз ніколи не повториться а що сталося двічі обов'язково повториться\", \"що сталося не враз ніколи не повторится а що сталося двічі обов'язково повторится\"]\n",
      "['VOXFORG/Taras-20160318-mxu/wav/spk_id_6703266_16142703765792.wav', 'чимало аналогічних закидів пролунало й на згаданому обговоренні', 'ці мало аналогічних західів пролунало й на згадоному обговорення']\n",
      "['VOXFORG/Taras-20160318-mxu/wav/spk_id_6703266_16142703767382.wav', 'і запропонував завершити дискусію про цей твір як літературний роман та розглядати його як соціальний памфлет і говорити не про те', 'і запропонував завершити дискусіпроції твір і к літературний роман та розглядати і як соціальний конфлект і говорити не про те']\n",
      "['VOXFORG/Taras-20160318-mxu/wav/spk_id_6703266_16142703774072.wav', 'вона починає фіксувати на свій смак і розсуд вести щоденник давати свою оцінку подій щось додавати щось відкидати', 'вона починає фіксуватия не свій свати розсуд ввести щоденних давати свіі тілько подій щось додавати щось від кидати']\n",
      "['VOXFORG/Taras-20160318-mxu/wav/spk_id_6703266_16142703775802.wav', 'пізнавальними й цікавими також є умовні тематичні цикли', 'пізнавальним і цікавим також є умовні тематичні цикли']\n",
      "['VOXFORG/Taras-20160318-mxu/wav/spk_id_6703266_16142703777142.wav', 'взагалі мені здається все наше життя це чекання найгіршого і надія на краще', 'взагалі мені здається все наше життя це чекали найгіршого і надія на краще']\n",
      "['VOXFORG/Taras-20160318-mxu/wav/spk_id_6703266_16142703778412.wav', \"холодний протяг неіснуючих днів висвистує все із пам'яті\", \"холодний протяг ниснуючіхнів вислистіси із пам'яті\"]\n",
      "['VOXFORG/Taras-20160318-mxu/wav/spk_id_6703266_16142703780952.wav', 'я переконана що в українi все ж iнша ситуацiя так я знаю що у вас теж не все так просто з полiтикою', 'я переконана що україни все ж інша ситуація так я знаю у вас теж не все так просто з політикою']\n",
      "['VOXFORG/Taras-20160318-qgc/wav/spk_id_7514084_16142703782362.wav', 'водночас у тексті є багато думок на які хочеться відреагувати позитивно', 'вони час у тексті є багато думок на які хочеться відрелувати позитивно']\n",
      "['VOXFORG/Taras-20160318-qgc/wav/spk_id_7514084_16142703783632.wav', 'тяжкою працею з допомогою щоразу більшої групи прихильників своїх ідей і вірних духовний лідер розвинув структуру церкви яка зросла до митрополії', 'тяжкою працею з допомоги що разу більше груп прихильники своїх ідей вірний духовно лідер розвернули структури церкви яка зросла до митропол']\n",
      "['VOXFORG/Taras-20160318-qgc/wav/spk_id_7514084_16142703784912.wav', 'досі не бралася за цю тему вважаючи що це зробить хтось інший бо родинною історією не зай\\xadмалася', 'досі не бралася за цю тему вважаючи що це зробить хтось інші бородинною історію не займалася']\n",
      "['VOXFORG/Taras-20160318-qgc/wav/spk_id_7514084_16142703786212.wav', \"на початку його каденції ці рішення не були популярними але згодом з'ясувалося що єпископ мав рацію\", \"на початку його каденції ці рішення не були популярноми але згодом з'ясувалося в що писка в мало рацію\"]\n",
      "['VOXFORG/Taras-20160318-qgc/wav/spk_id_7514084_16142703787432.wav', 'розподіл української єпархії між галичанами які називали себе українцями та закарпатцями котрим більше подобався термін русини мав бути тимчасовим', 'розподіл української партії між галичанами і ті називали себе українцям та закарпатсяи котрі більше подивися терміни русини мов бути тимчасово']\n",
      "['VOXFORG/Taras-20160318-qgc/wav/spk_id_7514084_16142703788702.wav', \"присвятивши це самобутнє та направду дуже притягальне дослідження пам'яті свого батька романа гайди керівник галереї равлик під час офіційної презентації видання\", \"присвятившице самубутнє та на правду дуже притяггальне дослідження пам'яті словбатька романагайди керівник галиериі равликпід час офіційні презентації видання\"]\n",
      "['VOXFORG/Taras-20160318-qgc/wav/spk_id_7514084_16142703789312.wav', 'цікаво також те що це дослідження є тільки частиною широкомасштабного проекту маленького равлика щодо збереження популяризації та відновлення архітектурно-культурної спадщини міста', 'цікаво також те що це дослідження тільки частиною широкомасштабного предки маленьку оралика щодо збереження популяризацій те відновлення архітектуру ко культурної спадщини міста']\n",
      "['VOXFORG/Taras-20160318-qgc/wav/spk_id_7514084_16142703789832.wav', 'і тільки тоді шлях простелився до ідеї видати книгу', 'і тільки тоді шлях простилився до ідеї видати книгу']\n",
      "['VOXFORG/Taras-20160318-qgc/wav/spk_id_7514084_16142703790332.wav', 'скажімо чи знали ми що найбільший львівський лев заввишки майже чотири метри розміщений біля сихівського кладовища', 'скажімо чи знали ми що найбільше львівські лев завижки майже чотири мети розміщені біля стівського кадилищя']\n",
      "['VOXFORG/Taras-20160318-qgc/wav/spk_id_7514084_16142703791553.wav', 'книгою книг виданих цьогоріч є архітектурно-культурологічне дослідження леви львова яке побачило світ завдяки ініціативі та зусиллям галереї равлик', 'книгою книг видавив цьогоріч є архітектурникультуол о логічне дослідження лили львова яке побачили світ за де ти ініціатив иві та з убсиллямгалерині ралик']\n",
      "['VOXFORG/Taras-20160318-rbe/wav/spk_id_3503283_16142703794103.wav', 'три наріччя української мови виділялися не завжди за давньоруської доби на території сучасної україни населення утворювало дві етнічно-мовні групи північно-східну і південно-західну', 'три на річі український мов віділялися не завтра за давні руської видива територію часі країни населення утворювали зілинічно мовні групи фінічносібі і південного західна']\n",
      "['VOXFORG/Taras-20160318-rbe/wav/spk_id_3503283_16142703795373.wav', \"українська мова є однією з наймилозвучніших мов світу довкола походження та становлення української мови існує декілька гіпотез праслов'янська давньоруська південноруська та інші\", \"українська мова є і на близучніших мов світу довкола походження та становило кіькмолсния діяла котись про слов'янська дамоуська південну руська та інші\"]\n",
      "['VOXFORG/Taras-20160318-rbe/wav/spk_id_3503283_16142703795893.wav', 'а сонечко встане як перше вставало і зорі червоні як перше плили попливуть і потім і ти білолиций', 'а сонечко сани як перше ставало із одісірвонії перше пливи по пливуть потім і ти діло лиці']\n",
      "['VOXFORG/Taras-20160318-rbe/wav/spk_id_3503283_16142703796453.wav', 'ще треті півні не співали ніхто нігде не гомонів', 'ще три ті півні ні співали ніхто єдиного мені']\n",
      "['VOXFORG/Taras-20160318-rbe/wav/spk_id_3503283_16142703797703.wav', 'людям не те що позакладало вуха людям позакладало душі', 'відяблитису по закладауха людям по закладалися']\n",
      "['VOXFORG/Taras-20160318-rbe/wav/spk_id_3503283_16142703798963.wav', 'жах не в тому що щось змінеться жах у тому що все може залишитися так само', 'жах не в тому що зміниться жаху тому ся саму з залишитися так само']\n",
      "['VOXFORG/Taras-20160318-rbe/wav/spk_id_3503283_16142703799313.wav', \"що сталося один раз ніколи не повториться а що сталося двічі обов'язково повториться\", \"що сталося один раз ніколи не повторится що сталося бійся обов'язково повторится\"]\n",
      "['VOXFORG/Taras-20160318-rbe/wav/spk_id_3503283_16142703799773.wav', 'чимало аналогічних закидів пролунало й на згаданому обговоренні', 'ці мало аналогічних законів пролунало на задано мов говоримо']\n",
      "['VOXFORG/Taras-20160318-rbe/wav/spk_id_3503283_16142703800373.wav', 'і запропонував завершити дискусію про цей твір як літературний роман та розглядати його як соціальний памфлет і говорити не про те', 'і запропонував завершити дискусії про ії ці літературний роман та розглядати соціальний том слати говорити не про те']\n",
      "['VOXFORG/Taras-20160318-rbe/wav/spk_id_3503283_16142703800783.wav', 'вона починає фіксувати на свій смак і розсуд вести щоденник давати свою оцінку подій щось додавати щось відкидати', 'а ми починаю фіксувати нессмтироси плисти що едедаваивіі подівся до аватищосвітки дати']\n",
      "['VOXFORG/Taras-20160318-yiw/wav/spk_id_2772118_16142703801453.wav', 'скільки коштуватиме організаторам дійство за участю української та американської зірки тримають у таємниці', 'скільки коштуватим організатором дійство зучіс української та американські зірки тримають у таємниці']\n",
      "['VOXFORG/Taras-20160318-yiw/wav/spk_id_2772118_16142703802013.wav', 'скромніше але теж чимало просить за виступ руслана', 'скробніше але те ще мало просить за виступ руслана']\n",
      "['VOXFORG/Taras-20160318-yiw/wav/spk_id_2772118_16142703802593.wav', 'іноді люди роблять зло іншим тільки через те що мають таку можливість', 'іноді люди роблять зло іншим ті ти через те що мають таку можливість']\n",
      "['VOXFORG/Taras-20160318-yiw/wav/spk_id_2772118_16142703803113.wav', 'запрошення також роздали волонтерам студентам учням і будівникам спортивного майданчика', 'запрошення також ли здаливовим терем студентам уста і будіникам скортивного майданська']\n",
      "['VOXFORG/Taras-20160318-yiw/wav/spk_id_2772118_16142703803653.wav', 'не забувай про послуги які тобі надали але забудь про ті які ти сам комусь надав', 'не забула про послуги і ті тобі на дали але забудь про ті і ти и сам комусь на ньому']\n",
      "['VOXFORG/Taras-20160318-yiw/wav/spk_id_2772118_16142703804203.wav', 'завжди здається що нас люблять за те що ми хороші і не здогадуємося що люблять нас тому що хорошими є ті хто нас любить', 'завжди здається що нас люблять за тим що ми хороші і не здогадуємося щоюи та стані що хорошим і і ті хто на сліди']\n",
      "['VOXFORG/Taras-20160318-yiw/wav/spk_id_2772118_16142703804623.wav', 'на ранок середи нібито було ухвалено рішення таки продавати їх', 'на ранок середи ніби тоуму ухвалене рішення таки продавати їх']\n",
      "['VOXFORG/Taras-20160318-yiw/wav/spk_id_2772118_16142703804993.wav', 'водночас у тексті є багато думок на які хочеться відреагувати позитивно', 'воно час отець ті багато думок не які хочеться від реагувати позитивно']\n",
      "['VOXFORG/Taras-20160318-yiw/wav/spk_id_2772118_16142703805393.wav', 'тяжкою працею з допомогою щоразу більшої групи прихильників своїх ідей і вірних духовний лідер розвинув структуру церкви яка зросла до митрополії', 'тяжкою праці допомующе разу більше гри трохи ліків свіі дії і вірні духовній і для розвиднитруу руцеквияка заросла до митрополію']\n",
      "['VOXFORG/Taras-20160318-yiw/wav/spk_id_2772118_16142703805773.wav', 'досі не бралася за цю тему вважаючи що це зробить хтось інший бо родинною історією не зай\\xadмалася', 'досі зібралася за цю темно вважаючи що це зробить хтось інші бо родинні історію не займалася']\n"
     ]
    }
   ],
   "source": [
    "# Append generated text in the list\n",
    "with open('voxforg_transcription_generated-text.csv', 'w', encoding='UTF8', newline='\\n') as f:\n",
    "    writer = csv.writer(f)\n",
    "\n",
    "    # write the header\n",
    "    writer.writerow(['path', 'transcription', 'generated_text'])\n",
    "\n",
    "for i in range(0, len(text)):\n",
    "    gen_text = asr_model(text[i][0], model, processor)\n",
    "    line = [text[i][0],text[i][1],gen_text]\n",
    "    \n",
    "    with open('voxforg_transcription_generated-text.csv', 'a', encoding='UTF8') as f:\n",
    "        writer = csv.writer(f)\n",
    "\n",
    "        # write the data\n",
    "        writer.writerow(line)"
   ]
  },
  {
   "cell_type": "markdown",
   "id": "ba755d58-f023-4383-bc44-fe0c1add9769",
   "metadata": {
    "jp-MarkdownHeadingCollapsed": true,
    "tags": []
   },
   "source": [
    "## Length Classification"
   ]
  },
  {
   "cell_type": "code",
   "execution_count": 4,
   "id": "fb0c75f2-da8d-47d2-8f2c-9fcd95733d3a",
   "metadata": {},
   "outputs": [],
   "source": [
    "Load the csv containing the wav path, transcript, and generated text as a pandas dataframe."
   ]
  },
  {
   "cell_type": "code",
   "execution_count": 5,
   "id": "e3bace2f-5beb-488b-89fe-0d35ba5d5079",
   "metadata": {},
   "outputs": [],
   "source": [
    "transcripts = pd.read_csv(\"voxforg_transcription_generated-text.csv\", encoding='utf-8')"
   ]
  },
  {
   "cell_type": "code",
   "execution_count": 6,
   "id": "ceb89858-a302-4069-9916-e2419e0a2179",
   "metadata": {},
   "outputs": [
    {
     "data": {
      "text/html": [
       "<div>\n",
       "<style scoped>\n",
       "    .dataframe tbody tr th:only-of-type {\n",
       "        vertical-align: middle;\n",
       "    }\n",
       "\n",
       "    .dataframe tbody tr th {\n",
       "        vertical-align: top;\n",
       "    }\n",
       "\n",
       "    .dataframe thead th {\n",
       "        text-align: right;\n",
       "    }\n",
       "</style>\n",
       "<table border=\"1\" class=\"dataframe\">\n",
       "  <thead>\n",
       "    <tr style=\"text-align: right;\">\n",
       "      <th></th>\n",
       "      <th>path</th>\n",
       "      <th>transcription</th>\n",
       "      <th>generated_text</th>\n",
       "    </tr>\n",
       "  </thead>\n",
       "  <tbody>\n",
       "    <tr>\n",
       "      <th>0</th>\n",
       "      <td>VOXFORG/Alias-20160403-lmx/wav/spk_id_8812551_...</td>\n",
       "      <td>завжди знайдуться люди які зроблять тобі боляч...</td>\n",
       "      <td>завжди знайдуться люди які зроблять тобі боляч...</td>\n",
       "    </tr>\n",
       "    <tr>\n",
       "      <th>1</th>\n",
       "      <td>VOXFORG/Alias-20160403-lmx/wav/spk_id_8812551_...</td>\n",
       "      <td>один хлопець поступається місцем знайомій дівч...</td>\n",
       "      <td>один хлопець поступається місцем знайомі дівчи...</td>\n",
       "    </tr>\n",
       "    <tr>\n",
       "      <th>2</th>\n",
       "      <td>VOXFORG/Alias-20160403-lmx/wav/spk_id_8812551_...</td>\n",
       "      <td>тож не дивно що протягом тижня львовом поширюв...</td>\n",
       "      <td>то ж не дивно що протягом тижня львова поширюв...</td>\n",
       "    </tr>\n",
       "    <tr>\n",
       "      <th>3</th>\n",
       "      <td>VOXFORG/Alias-20160403-lmx/wav/spk_id_8812551_...</td>\n",
       "      <td>будить мій тато молодшого брата до школи</td>\n",
       "      <td>будетмітато молодшого брата до школи</td>\n",
       "    </tr>\n",
       "    <tr>\n",
       "      <th>4</th>\n",
       "      <td>VOXFORG/Alias-20160403-lmx/wav/spk_id_8812551_...</td>\n",
       "      <td>скільки коштуватиме організаторам дійство за у...</td>\n",
       "      <td>скільки коштувати організаторам дійство за уча...</td>\n",
       "    </tr>\n",
       "  </tbody>\n",
       "</table>\n",
       "</div>"
      ],
      "text/plain": [
       "                                                path  \\\n",
       "0  VOXFORG/Alias-20160403-lmx/wav/spk_id_8812551_...   \n",
       "1  VOXFORG/Alias-20160403-lmx/wav/spk_id_8812551_...   \n",
       "2  VOXFORG/Alias-20160403-lmx/wav/spk_id_8812551_...   \n",
       "3  VOXFORG/Alias-20160403-lmx/wav/spk_id_8812551_...   \n",
       "4  VOXFORG/Alias-20160403-lmx/wav/spk_id_8812551_...   \n",
       "\n",
       "                                       transcription  \\\n",
       "0  завжди знайдуться люди які зроблять тобі боляч...   \n",
       "1  один хлопець поступається місцем знайомій дівч...   \n",
       "2  тож не дивно що протягом тижня львовом поширюв...   \n",
       "3           будить мій тато молодшого брата до школи   \n",
       "4  скільки коштуватиме організаторам дійство за у...   \n",
       "\n",
       "                                      generated_text  \n",
       "0  завжди знайдуться люди які зроблять тобі боляч...  \n",
       "1  один хлопець поступається місцем знайомі дівчи...  \n",
       "2  то ж не дивно що протягом тижня львова поширюв...  \n",
       "3               будетмітато молодшого брата до школи  \n",
       "4  скільки коштувати організаторам дійство за уча...  "
      ]
     },
     "execution_count": 6,
     "metadata": {},
     "output_type": "execute_result"
    }
   ],
   "source": [
    "transcripts.head()"
   ]
  },
  {
   "cell_type": "markdown",
   "id": "00408431-0037-4ba7-90fa-2ae9513a822b",
   "metadata": {},
   "source": [
    "To calculate the length difference between the transcript and the generated text, first remove the newline character, if it is present in the transcript. Then, subtract the length of the generated text from the transcript length. Append the result to a list and save the list as a column in the dataframe."
   ]
  },
  {
   "cell_type": "code",
   "execution_count": 7,
   "id": "6c0c7221-0c21-494d-9e9d-c5a7803cc73b",
   "metadata": {},
   "outputs": [],
   "source": [
    "# Calculate length difference between transcripts\n",
    "length = []\n",
    "for i in range(len(transcripts['path'])):\n",
    "    transcripts['transcription'][i] = transcripts['transcription'][i].rstrip('\\n')\n",
    "    length.append(len(transcripts['transcription'][i]) - len(transcripts['generated_text'][i]))"
   ]
  },
  {
   "cell_type": "code",
   "execution_count": 8,
   "id": "a641ace8-bda1-4f3a-9a81-069f646fbf88",
   "metadata": {},
   "outputs": [
    {
     "data": {
      "text/html": [
       "<div>\n",
       "<style scoped>\n",
       "    .dataframe tbody tr th:only-of-type {\n",
       "        vertical-align: middle;\n",
       "    }\n",
       "\n",
       "    .dataframe tbody tr th {\n",
       "        vertical-align: top;\n",
       "    }\n",
       "\n",
       "    .dataframe thead th {\n",
       "        text-align: right;\n",
       "    }\n",
       "</style>\n",
       "<table border=\"1\" class=\"dataframe\">\n",
       "  <thead>\n",
       "    <tr style=\"text-align: right;\">\n",
       "      <th></th>\n",
       "      <th>path</th>\n",
       "      <th>transcription</th>\n",
       "      <th>generated_text</th>\n",
       "      <th>length_diff</th>\n",
       "    </tr>\n",
       "  </thead>\n",
       "  <tbody>\n",
       "    <tr>\n",
       "      <th>0</th>\n",
       "      <td>VOXFORG/Alias-20160403-lmx/wav/spk_id_8812551_...</td>\n",
       "      <td>завжди знайдуться люди які зроблять тобі боляч...</td>\n",
       "      <td>завжди знайдуться люди які зроблять тобі боляч...</td>\n",
       "      <td>0</td>\n",
       "    </tr>\n",
       "    <tr>\n",
       "      <th>1</th>\n",
       "      <td>VOXFORG/Alias-20160403-lmx/wav/spk_id_8812551_...</td>\n",
       "      <td>один хлопець поступається місцем знайомій дівч...</td>\n",
       "      <td>один хлопець поступається місцем знайомі дівчи...</td>\n",
       "      <td>1</td>\n",
       "    </tr>\n",
       "    <tr>\n",
       "      <th>2</th>\n",
       "      <td>VOXFORG/Alias-20160403-lmx/wav/spk_id_8812551_...</td>\n",
       "      <td>тож не дивно що протягом тижня львовом поширюв...</td>\n",
       "      <td>то ж не дивно що протягом тижня львова поширюв...</td>\n",
       "      <td>1</td>\n",
       "    </tr>\n",
       "    <tr>\n",
       "      <th>3</th>\n",
       "      <td>VOXFORG/Alias-20160403-lmx/wav/spk_id_8812551_...</td>\n",
       "      <td>будить мій тато молодшого брата до школи</td>\n",
       "      <td>будетмітато молодшого брата до школи</td>\n",
       "      <td>4</td>\n",
       "    </tr>\n",
       "    <tr>\n",
       "      <th>4</th>\n",
       "      <td>VOXFORG/Alias-20160403-lmx/wav/spk_id_8812551_...</td>\n",
       "      <td>скільки коштуватиме організаторам дійство за у...</td>\n",
       "      <td>скільки коштувати організаторам дійство за уча...</td>\n",
       "      <td>0</td>\n",
       "    </tr>\n",
       "  </tbody>\n",
       "</table>\n",
       "</div>"
      ],
      "text/plain": [
       "                                                path  \\\n",
       "0  VOXFORG/Alias-20160403-lmx/wav/spk_id_8812551_...   \n",
       "1  VOXFORG/Alias-20160403-lmx/wav/spk_id_8812551_...   \n",
       "2  VOXFORG/Alias-20160403-lmx/wav/spk_id_8812551_...   \n",
       "3  VOXFORG/Alias-20160403-lmx/wav/spk_id_8812551_...   \n",
       "4  VOXFORG/Alias-20160403-lmx/wav/spk_id_8812551_...   \n",
       "\n",
       "                                       transcription  \\\n",
       "0  завжди знайдуться люди які зроблять тобі боляч...   \n",
       "1  один хлопець поступається місцем знайомій дівч...   \n",
       "2  тож не дивно що протягом тижня львовом поширюв...   \n",
       "3           будить мій тато молодшого брата до школи   \n",
       "4  скільки коштуватиме організаторам дійство за у...   \n",
       "\n",
       "                                      generated_text  length_diff  \n",
       "0  завжди знайдуться люди які зроблять тобі боляч...            0  \n",
       "1  один хлопець поступається місцем знайомі дівчи...            1  \n",
       "2  то ж не дивно що протягом тижня львова поширюв...            1  \n",
       "3               будетмітато молодшого брата до школи            4  \n",
       "4  скільки коштувати організаторам дійство за уча...            0  "
      ]
     },
     "execution_count": 8,
     "metadata": {},
     "output_type": "execute_result"
    }
   ],
   "source": [
    "# Create column in dataset\n",
    "transcripts['length_diff'] = length\n",
    "transcripts.head()"
   ]
  },
  {
   "cell_type": "markdown",
   "id": "9b4b4304-6fbe-4167-87c1-d44966fb315b",
   "metadata": {},
   "source": [
    "Based on the difference, classificate each transcript into one of three categories: incomplete (difference is equal or less than -10), inconclusive (difference is equal to or less than -5), or complete (difference is greater than -5). Save the classification as a new column of the dataframe and then save the dataframe as a csv file."
   ]
  },
  {
   "cell_type": "code",
   "execution_count": 10,
   "id": "e4ecf83f-871a-426b-930b-223098299606",
   "metadata": {},
   "outputs": [
    {
     "name": "stderr",
     "output_type": "stream",
     "text": [
      "/tmp/ipykernel_125/3696879790.py:11: SettingWithCopyWarning: \n",
      "A value is trying to be set on a copy of a slice from a DataFrame\n",
      "\n",
      "See the caveats in the documentation: https://pandas.pydata.org/pandas-docs/stable/user_guide/indexing.html#returning-a-view-versus-a-copy\n",
      "  transcripts['length_cat'][i] = 'complete'\n"
     ]
    },
    {
     "data": {
      "text/html": [
       "<div>\n",
       "<style scoped>\n",
       "    .dataframe tbody tr th:only-of-type {\n",
       "        vertical-align: middle;\n",
       "    }\n",
       "\n",
       "    .dataframe tbody tr th {\n",
       "        vertical-align: top;\n",
       "    }\n",
       "\n",
       "    .dataframe thead th {\n",
       "        text-align: right;\n",
       "    }\n",
       "</style>\n",
       "<table border=\"1\" class=\"dataframe\">\n",
       "  <thead>\n",
       "    <tr style=\"text-align: right;\">\n",
       "      <th></th>\n",
       "      <th>path</th>\n",
       "      <th>transcription</th>\n",
       "      <th>generated_text</th>\n",
       "      <th>length_diff</th>\n",
       "      <th>length_cat</th>\n",
       "    </tr>\n",
       "  </thead>\n",
       "  <tbody>\n",
       "    <tr>\n",
       "      <th>0</th>\n",
       "      <td>VOXFORG/Alias-20160403-lmx/wav/spk_id_8812551_...</td>\n",
       "      <td>завжди знайдуться люди які зроблять тобі боляч...</td>\n",
       "      <td>завжди знайдуться люди які зроблять тобі боляч...</td>\n",
       "      <td>0</td>\n",
       "      <td>complete</td>\n",
       "    </tr>\n",
       "    <tr>\n",
       "      <th>1</th>\n",
       "      <td>VOXFORG/Alias-20160403-lmx/wav/spk_id_8812551_...</td>\n",
       "      <td>один хлопець поступається місцем знайомій дівч...</td>\n",
       "      <td>один хлопець поступається місцем знайомі дівчи...</td>\n",
       "      <td>1</td>\n",
       "      <td>complete</td>\n",
       "    </tr>\n",
       "    <tr>\n",
       "      <th>2</th>\n",
       "      <td>VOXFORG/Alias-20160403-lmx/wav/spk_id_8812551_...</td>\n",
       "      <td>тож не дивно що протягом тижня львовом поширюв...</td>\n",
       "      <td>то ж не дивно що протягом тижня львова поширюв...</td>\n",
       "      <td>1</td>\n",
       "      <td>complete</td>\n",
       "    </tr>\n",
       "    <tr>\n",
       "      <th>3</th>\n",
       "      <td>VOXFORG/Alias-20160403-lmx/wav/spk_id_8812551_...</td>\n",
       "      <td>будить мій тато молодшого брата до школи</td>\n",
       "      <td>будетмітато молодшого брата до школи</td>\n",
       "      <td>4</td>\n",
       "      <td>complete</td>\n",
       "    </tr>\n",
       "    <tr>\n",
       "      <th>4</th>\n",
       "      <td>VOXFORG/Alias-20160403-lmx/wav/spk_id_8812551_...</td>\n",
       "      <td>скільки коштуватиме організаторам дійство за у...</td>\n",
       "      <td>скільки коштувати організаторам дійство за уча...</td>\n",
       "      <td>0</td>\n",
       "      <td>complete</td>\n",
       "    </tr>\n",
       "  </tbody>\n",
       "</table>\n",
       "</div>"
      ],
      "text/plain": [
       "                                                path  \\\n",
       "0  VOXFORG/Alias-20160403-lmx/wav/spk_id_8812551_...   \n",
       "1  VOXFORG/Alias-20160403-lmx/wav/spk_id_8812551_...   \n",
       "2  VOXFORG/Alias-20160403-lmx/wav/spk_id_8812551_...   \n",
       "3  VOXFORG/Alias-20160403-lmx/wav/spk_id_8812551_...   \n",
       "4  VOXFORG/Alias-20160403-lmx/wav/spk_id_8812551_...   \n",
       "\n",
       "                                       transcription  \\\n",
       "0  завжди знайдуться люди які зроблять тобі боляч...   \n",
       "1  один хлопець поступається місцем знайомій дівч...   \n",
       "2  тож не дивно що протягом тижня львовом поширюв...   \n",
       "3           будить мій тато молодшого брата до школи   \n",
       "4  скільки коштуватиме організаторам дійство за у...   \n",
       "\n",
       "                                      generated_text  length_diff length_cat  \n",
       "0  завжди знайдуться люди які зроблять тобі боляч...            0   complete  \n",
       "1  один хлопець поступається місцем знайомі дівчи...            1   complete  \n",
       "2  то ж не дивно що протягом тижня львова поширюв...            1   complete  \n",
       "3               будетмітато молодшого брата до школи            4   complete  \n",
       "4  скільки коштувати організаторам дійство за уча...            0   complete  "
      ]
     },
     "execution_count": 10,
     "metadata": {},
     "output_type": "execute_result"
    }
   ],
   "source": [
    "# Classificate transcripts according to length difference\n",
    "\n",
    "transcripts['length_cat'] = [0 for x in range(380)]\n",
    "\n",
    "for i in range(len(transcripts['length_diff'])):\n",
    "  if transcripts['length_diff'][i] <= -10:\n",
    "    transcripts['length_cat'][i] = 'incomplete'\n",
    "  elif transcripts['length_diff'][i] <= -5:\n",
    "    transcripts['length_cat'][i] = 'inconclusive'\n",
    "  else:\n",
    "    transcripts['length_cat'][i] = 'complete'\n",
    "    \n",
    "\n",
    "transcripts.to_csv('transcripts_length_cat_voxforg.csv', encoding='utf-8')\n",
    "transcripts.head()"
   ]
  },
  {
   "cell_type": "markdown",
   "id": "a656a8f1-77cc-40ea-84c4-54fb0f8f272b",
   "metadata": {},
   "source": [
    "To have a picture about the completeness of the transcripts, count and plot the values in each category."
   ]
  },
  {
   "cell_type": "code",
   "execution_count": 11,
   "id": "a1b1f717-2091-4b85-ae59-3b2adf32a67e",
   "metadata": {},
   "outputs": [
    {
     "data": {
      "text/plain": [
       "complete        378\n",
       "inconclusive      2\n",
       "Name: length_cat, dtype: int64"
      ]
     },
     "execution_count": 11,
     "metadata": {},
     "output_type": "execute_result"
    }
   ],
   "source": [
    "# Count n of transcripts per category\n",
    "transcripts['length_cat'].value_counts()"
   ]
  },
  {
   "cell_type": "code",
   "execution_count": 12,
   "id": "e7b763b0-925d-4459-bf26-8ac11f6ab556",
   "metadata": {},
   "outputs": [
    {
     "data": {
      "text/plain": [
       "<AxesSubplot: >"
      ]
     },
     "execution_count": 12,
     "metadata": {},
     "output_type": "execute_result"
    },
    {
     "data": {
      "image/png": "[encoded data removed]",
      "text/plain": [
       "<Figure size 640x480 with 1 Axes>"
      ]
     },
     "metadata": {},
     "output_type": "display_data"
    }
   ],
   "source": [
    "transcripts['length_cat'].value_counts().plot.bar()"
   ]
  },
  {
   "cell_type": "markdown",
   "id": "3d5f9718-8a33-42e5-a23c-a85dbba305cc",
   "metadata": {},
   "source": [
    "Finally, select only the transcripts classificated as incomplete or inconclusive and save them into a text file for manual inspection. The text file contains the path, the transcript, and the generated text, each in a different line, with a blank line separating each sentence."
   ]
  },
  {
   "cell_type": "code",
   "execution_count": 13,
   "id": "1daf9ea5-494d-4628-8116-ebb73ba8e0bf",
   "metadata": {},
   "outputs": [
    {
     "data": {
      "text/html": [
       "<div>\n",
       "<style scoped>\n",
       "    .dataframe tbody tr th:only-of-type {\n",
       "        vertical-align: middle;\n",
       "    }\n",
       "\n",
       "    .dataframe tbody tr th {\n",
       "        vertical-align: top;\n",
       "    }\n",
       "\n",
       "    .dataframe thead th {\n",
       "        text-align: right;\n",
       "    }\n",
       "</style>\n",
       "<table border=\"1\" class=\"dataframe\">\n",
       "  <thead>\n",
       "    <tr style=\"text-align: right;\">\n",
       "      <th></th>\n",
       "      <th>path</th>\n",
       "      <th>transcription</th>\n",
       "      <th>generated_text</th>\n",
       "      <th>length_diff</th>\n",
       "      <th>length_cat</th>\n",
       "    </tr>\n",
       "  </thead>\n",
       "  <tbody>\n",
       "    <tr>\n",
       "      <th>339</th>\n",
       "      <td>VOXFORG/Taras-20160318-ewy/wav/spk_id_1714329_...</td>\n",
       "      <td>жах не в тому що щось змінеться жах у тому що ...</td>\n",
       "      <td>жах не в тому що щось ставиться а жаху тому що...</td>\n",
       "      <td>-6</td>\n",
       "      <td>inconclusive</td>\n",
       "    </tr>\n",
       "    <tr>\n",
       "      <th>359</th>\n",
       "      <td>VOXFORG/Taras-20160318-qgc/wav/spk_id_7514084_...</td>\n",
       "      <td>книгою книг виданих цьогоріч є архітектурно-ку...</td>\n",
       "      <td>книгою книг видавив цьогоріч є архітектурникул...</td>\n",
       "      <td>-7</td>\n",
       "      <td>inconclusive</td>\n",
       "    </tr>\n",
       "  </tbody>\n",
       "</table>\n",
       "</div>"
      ],
      "text/plain": [
       "                                                  path  \\\n",
       "339  VOXFORG/Taras-20160318-ewy/wav/spk_id_1714329_...   \n",
       "359  VOXFORG/Taras-20160318-qgc/wav/spk_id_7514084_...   \n",
       "\n",
       "                                         transcription  \\\n",
       "339  жах не в тому що щось змінеться жах у тому що ...   \n",
       "359  книгою книг виданих цьогоріч є архітектурно-ку...   \n",
       "\n",
       "                                        generated_text  length_diff  \\\n",
       "339  жах не в тому що щось ставиться а жаху тому що...           -6   \n",
       "359  книгою книг видавив цьогоріч є архітектурникул...           -7   \n",
       "\n",
       "       length_cat  \n",
       "339  inconclusive  \n",
       "359  inconclusive  "
      ]
     },
     "execution_count": 13,
     "metadata": {},
     "output_type": "execute_result"
    }
   ],
   "source": [
    "# Select only transcripts in the incomplete and inconclusive categories\n",
    "txt = transcripts.loc[(transcripts['length_cat'] == 'incomplete') | (transcripts['length_cat'] == 'inconclusive')]\n",
    "txt.head()"
   ]
  },
  {
   "cell_type": "code",
   "execution_count": 14,
   "id": "ef8902be-84e3-4d32-ab44-308d37942408",
   "metadata": {},
   "outputs": [],
   "source": [
    "# Save in a text file\n",
    "with open('transcripts_voxforg.txt', 'w', encoding='utf-8') as f:\n",
    "    for t in range(len(txt)):\n",
    "        f.write(txt.iloc[t,0]+'\\n')\n",
    "        f.write(txt.iloc[t,1]+'\\n')\n",
    "        f.write(txt.iloc[t,2]+'\\n')\n",
    "        f.write('\\n\\n')"
   ]
  }
 ],
 "metadata": {
  "kernelspec": {
   "display_name": "default:Python",
   "language": "python",
   "name": "conda-env-default-py"
  },
  "language_info": {
   "codemirror_mode": {
    "name": "ipython",
    "version": 3
   },
   "file_extension": ".py",
   "mimetype": "text/x-python",
   "name": "python",
   "nbconvert_exporter": "python",
   "pygments_lexer": "ipython3",
   "version": "3.9.13"
  }
 },
 "nbformat": 4,
 "nbformat_minor": 5
}
