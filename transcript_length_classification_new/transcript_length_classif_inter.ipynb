{
 "cells": [
  {
   "cell_type": "markdown",
   "id": "3f8e5653-a631-4dac-ac60-50e66f816464",
   "metadata": {
    "jp-MarkdownHeadingCollapsed": true,
    "tags": []
   },
   "source": [
    "## Import libraries, load ASR function, unzip dataset, and download model"
   ]
  },
  {
   "cell_type": "code",
   "execution_count": null,
   "id": "25f86949-8d24-4c1c-b2e4-7f1bd1f4e5f4",
   "metadata": {},
   "outputs": [],
   "source": [
    "!pip install -r requirements.txt"
   ]
  },
  {
   "cell_type": "code",
   "execution_count": 1,
   "id": "bbdfeca6-403c-4b0b-8eb8-9e54dfee9670",
   "metadata": {},
   "outputs": [],
   "source": [
    "import os\n",
    "import transformers\n",
    "import torchaudio\n",
    "import numpy as np\n",
    "import sentencepiece\n",
    "import csv\n",
    "import pandas as pd\n",
    "\n",
    "from pyctcdecode import build_ctcdecoder\n",
    "from transformers import Wav2Vec2ProcessorWithLM, Wav2Vec2ForCTC, Wav2Vec2CTCTokenizer, Wav2Vec2FeatureExtractor, AutoTokenizer, AutoModelForSeq2SeqLM\n",
    "from scipy.io.wavfile import write\n",
    "import matplotlib.pyplot as plt"
   ]
  },
  {
   "cell_type": "markdown",
   "id": "157d590f-296b-4570-9303-473adad9931c",
   "metadata": {},
   "source": [
    "This function performs text generation from audio files in wav format.\n",
    "It loads the audio file into an array, adjust the sample rate to the one required by the model (16000) and run it into the model that generates text from the waveform."
   ]
  },
  {
   "cell_type": "code",
   "execution_count": 2,
   "id": "73e9a2df-37bd-41c5-92b7-393c5396bf90",
   "metadata": {},
   "outputs": [],
   "source": [
    "def asr_model(wav_file, model, processor):\n",
    "    waveform, sample_rate = torchaudio.load(wav_file)\n",
    "    resampler = torchaudio.transforms.Resample(orig_freq=sample_rate, new_freq=16000, resampling_method='sinc_interpolation')\n",
    "    # Downsampling is required to match the model's frequency, i.e.\n",
    "    # the frequency of the dataset the model was trained on.\n",
    "    speech_array = resampler(waveform).squeeze().numpy()\n",
    "    inputs = processor(speech_array, sampling_rate=16000, return_tensors=\"pt\")['input_values']\n",
    "    # Detach the tensors first (otherwise, they require gradients\n",
    "    # to be computed); also, since we're simulating the inference\n",
    "    # squeeze the resulting array at the first dimension (batch_size),\n",
    "    # otherwise, leave it as is, and call batch_decode() instead.\n",
    "    outputs = model(inputs)['logits'].detach().numpy().squeeze(0)\n",
    "    return(processor.decode(outputs).text)"
   ]
  },
  {
   "cell_type": "markdown",
   "id": "410e3914-8231-42a2-ab53-dbb52835fafb",
   "metadata": {},
   "source": [
    "Download model and processor to be used in the function above."
   ]
  },
  {
   "cell_type": "code",
   "execution_count": 3,
   "id": "bf3c4c25-05dc-4a12-adb8-8a2b615c166e",
   "metadata": {},
   "outputs": [],
   "source": [
    "model = Wav2Vec2ForCTC.from_pretrained(\"Yehor/wav2vec2-xls-r-300m-uk-with-small-lm\")"
   ]
  },
  {
   "cell_type": "code",
   "execution_count": 4,
   "id": "9519fea0-7f6d-4fc8-a9c3-994f9c57fd89",
   "metadata": {},
   "outputs": [
    {
     "name": "stderr",
     "output_type": "stream",
     "text": [
      "/home/studio-lab-user/.conda/envs/default/lib/python3.9/site-packages/huggingface_hub/utils/_deprecation.py:97: FutureWarning: Deprecated argument(s) used in 'snapshot_download': allow_regex. Will not be supported from version '0.12'.\n",
      "\n",
      "Please use `allow_patterns` and `ignore_patterns` instead.\n",
      "  warnings.warn(message, FutureWarning)\n"
     ]
    },
    {
     "data": {
      "application/vnd.jupyter.widget-view+json": {
       "model_id": "f86215f575e54f26ba165979fd91ec3b",
       "version_major": 2,
       "version_minor": 0
      },
      "text/plain": [
       "Fetching 4 files:   0%|          | 0/4 [00:00<?, ?it/s]"
      ]
     },
     "metadata": {},
     "output_type": "display_data"
    },
    {
     "name": "stderr",
     "output_type": "stream",
     "text": [
      "Loading the LM will be faster if you build a binary file.\n",
      "Reading /home/studio-lab-user/.cache/pyctcdecode/models--Yehor--wav2vec2-xls-r-300m-uk-with-small-lm/snapshots/bbd936400e7566ba44560440aa4abd05b5983c17/language_model/5gram_correct.arpa\n",
      "----5---10---15---20---25---30---35---40---45---50---55---60---65---70---75---80---85---90---95--100\n",
      "****************************************************************************************************\n"
     ]
    }
   ],
   "source": [
    "processor = Wav2Vec2ProcessorWithLM.from_pretrained(\"Yehor/wav2vec2-xls-r-300m-uk-with-small-lm\")"
   ]
  },
  {
   "cell_type": "code",
   "execution_count": 14,
   "id": "46a81b82-31ac-43b6-9782-76ea3350f206",
   "metadata": {},
   "outputs": [
    {
     "name": "stdout",
     "output_type": "stream",
     "text": [
      "Archive:  INTER.zip\n",
      "  End-of-central-directory signature not found.  Either this file is not\n",
      "  a zipfile, or it constitutes one disk of a multi-part archive.  In the\n",
      "  latter case the central directory and zipfile comment will be found on\n",
      "  the last disk(s) of this archive.\n",
      "unzip:  cannot find zipfile directory in one of INTER.zip or\n",
      "        INTER.zip.zip, and cannot find INTER.zip.ZIP, period.\n"
     ]
    }
   ],
   "source": [
    "# Unzip file\n",
    "!unzip INTER.zip"
   ]
  },
  {
   "cell_type": "markdown",
   "id": "1a76667a-52e2-4f09-aec1-bb95f59f7a79",
   "metadata": {
    "jp-MarkdownHeadingCollapsed": true,
    "tags": []
   },
   "source": [
    "## Prepare dataset"
   ]
  },
  {
   "cell_type": "markdown",
   "id": "3e543f61-d5d3-4a68-a544-b70b82e15f58",
   "metadata": {},
   "source": [
    "After extracting the files, change directory to the files location. List all the directories in the location to access the files from them."
   ]
  },
  {
   "cell_type": "code",
   "execution_count": 5,
   "id": "4c3e0a01-ea3b-442a-8647-74b11e5975ff",
   "metadata": {},
   "outputs": [
    {
     "name": "stdout",
     "output_type": "stream",
     "text": [
      "/home/studio-lab-user/sagemaker-studiolab-notebooks/INTER\n"
     ]
    }
   ],
   "source": [
    "# Save list of directories in the dataset folder\n",
    "\n",
    "%cd '/home/studio-lab-user/sagemaker-studiolab-notebooks/INTER'\n",
    "\n",
    "folders = os.listdir()\n",
    "folders = folders[:-1]"
   ]
  },
  {
   "cell_type": "markdown",
   "id": "66deb709-d0e5-4fdd-bc1b-d9c4933ef01e",
   "metadata": {},
   "source": [
    "Create a variable to store the file paths and their corresponding transcripts. The variable is a list containing sublists for each pair if path and transcript.\n",
    "Then, open the file in each directory of the list created before. For each line of the opened file, remove the '/' in the beginning of the line, to keep the path in the appropriate format. In this dataset, the paths and transcripts are separated by two spaces, so a string containing two spaces is used to split the line into a list containing those two elements."
   ]
  },
  {
   "cell_type": "code",
   "execution_count": 6,
   "id": "4145bf98-79f9-4707-a01f-96df094b5bb2",
   "metadata": {},
   "outputs": [],
   "source": [
    "# Open text files in the dataset folders and save each row in a list (splitting the file path and the transcription into an inner list)\n",
    "text = []\n",
    "for f in folders:\n",
    "    file = open(f+'/etc/txt.done.data', 'r', encoding='utf8')\n",
    "    for line in file:\n",
    "        line = line.lstrip('/')\n",
    "        text.append(line.split('  '))"
   ]
  },
  {
   "cell_type": "markdown",
   "id": "e30fc30b-b7b4-4cb7-9d4a-b3adf9762d9a",
   "metadata": {},
   "source": [
    "Check if the path and the transcript were splitted correctly by printing the first line. Check if the length of the list matches the size of the dataset (number of wav files)."
   ]
  },
  {
   "cell_type": "code",
   "execution_count": 7,
   "id": "94f6c032-695e-4b02-9b2a-2ccc310cdeef",
   "metadata": {},
   "outputs": [
    {
     "name": "stdout",
     "output_type": "stream",
     "text": [
      "['INTER/16144517608610/wav/spk_id_10294_16144517950804.wav', 'тільки за минулий рік\\n']\n"
     ]
    }
   ],
   "source": [
    "print(text[0])"
   ]
  },
  {
   "cell_type": "code",
   "execution_count": 8,
   "id": "34fa574d-65d4-4196-96c6-b1a656bbca27",
   "metadata": {},
   "outputs": [
    {
     "name": "stdout",
     "output_type": "stream",
     "text": [
      "15906\n"
     ]
    }
   ],
   "source": [
    "print(len(text))"
   ]
  },
  {
   "cell_type": "markdown",
   "id": "ac5558ac-5df1-4f88-9912-e3d78dd19e30",
   "metadata": {
    "jp-MarkdownHeadingCollapsed": true,
    "tags": []
   },
   "source": [
    "## Generate text"
   ]
  },
  {
   "cell_type": "markdown",
   "id": "8fa60869-ca72-4c4d-a9d6-391f196405eb",
   "metadata": {},
   "source": [
    "Change the working directory again to create a csv file that will store all the paths, transcripts, and generated text from the ASR model. The file creation is done in a separate cell because it writes a header to the file, this way the header is not written again when re-running the cell to append more sentences."
   ]
  },
  {
   "cell_type": "code",
   "execution_count": 10,
   "id": "5d168a14-42a3-4e79-91f4-c18595359f88",
   "metadata": {},
   "outputs": [
    {
     "name": "stdout",
     "output_type": "stream",
     "text": [
      "/home/studio-lab-user/sagemaker-studiolab-notebooks\n"
     ]
    }
   ],
   "source": [
    "%cd '/home/studio-lab-user/sagemaker-studiolab-notebooks/'"
   ]
  },
  {
   "cell_type": "code",
   "execution_count": 11,
   "id": "615d27d0-72fe-4023-822f-0ddb49c8dcd7",
   "metadata": {},
   "outputs": [],
   "source": [
    "# Create csv file with header\n",
    "\n",
    "with open('inter_transcription_generated-text.csv', 'w', encoding='UTF8', newline='\\n') as f:\n",
    "    writer = csv.writer(f)\n",
    "\n",
    "    # write the header\n",
    "    writer.writerow(['path', 'transcription', 'generated_text'])"
   ]
  },
  {
   "cell_type": "markdown",
   "id": "d4eb49c2-9ef0-47b4-b5d3-3ec43cb35116",
   "metadata": {},
   "source": [
    "The loop below calls the function to generate text. The output is saved into a variable that is appended to the list containing the path and transcript for the sentence.\n",
    "Lastly, the sublist corresponding to the sentence, containing path + transcript + generated text, is written as a new line into the file created earlier.\n",
    "\n",
    "PS.: the option to write one line at a time to the file was made because with large datasets, the notebook can crash for a number or reasons. When this happens, this cell can be re-run from where it stopped by replacing the 0 that sets the initial range in the for loop with the number of the last line written to the file (and not the last line, since the range starts at 0 and the lines in the file are counted from 1). Otherwise, the content appended to the text variable would have been lost."
   ]
  },
  {
   "cell_type": "code",
   "execution_count": 12,
   "id": "ab632c33-2d1a-4140-a435-488e74c2cecf",
   "metadata": {},
   "outputs": [],
   "source": [
    "# Append generated text in the list and save to csv file\n",
    "for i in range(9338, len(text)):\n",
    "    gen_text = asr_model(text[i][0], model, processor)\n",
    "    text[i].append(gen_text)\n",
    "\n",
    "    with open('inter_transcription_generated-text.csv', 'a', encoding='UTF8', newline='\\n') as f:\n",
    "        writer = csv.writer(f)\n",
    "\n",
    "        # write the data\n",
    "        writer.writerows(text[i:i+1])"
   ]
  },
  {
   "cell_type": "markdown",
   "id": "bace1f46-74c3-4d34-9ab2-c86d71fae5c5",
   "metadata": {
    "tags": []
   },
   "source": [
    "## Length Classification"
   ]
  },
  {
   "cell_type": "markdown",
   "id": "8aff14e7-14c9-44b5-af24-3304053f7d3f",
   "metadata": {},
   "source": [
    "Load the csv containing the wav path, transcript, and generated text as a pandas dataframe."
   ]
  },
  {
   "cell_type": "code",
   "execution_count": 16,
   "id": "e3bace2f-5beb-488b-89fe-0d35ba5d5079",
   "metadata": {},
   "outputs": [],
   "source": [
    "transcripts = pd.read_csv(\"inter_transcription_generated-text2.csv\", encoding='utf-8')"
   ]
  },
  {
   "cell_type": "code",
   "execution_count": 17,
   "id": "ceb89858-a302-4069-9916-e2419e0a2179",
   "metadata": {},
   "outputs": [
    {
     "data": {
      "text/html": [
       "<div>\n",
       "<style scoped>\n",
       "    .dataframe tbody tr th:only-of-type {\n",
       "        vertical-align: middle;\n",
       "    }\n",
       "\n",
       "    .dataframe tbody tr th {\n",
       "        vertical-align: top;\n",
       "    }\n",
       "\n",
       "    .dataframe thead th {\n",
       "        text-align: right;\n",
       "    }\n",
       "</style>\n",
       "<table border=\"1\" class=\"dataframe\">\n",
       "  <thead>\n",
       "    <tr style=\"text-align: right;\">\n",
       "      <th></th>\n",
       "      <th>path</th>\n",
       "      <th>transcription</th>\n",
       "      <th>generated_text</th>\n",
       "    </tr>\n",
       "  </thead>\n",
       "  <tbody>\n",
       "    <tr>\n",
       "      <th>0</th>\n",
       "      <td>INTER/16144517608610/wav/spk_id_10294_16144517...</td>\n",
       "      <td>тільки за минулий рік\\n</td>\n",
       "      <td>тільки за минули ріг</td>\n",
       "    </tr>\n",
       "    <tr>\n",
       "      <th>1</th>\n",
       "      <td>INTER/16144517608610/wav/spk_id_10294_16144517...</td>\n",
       "      <td>звільнили\\n</td>\n",
       "      <td>звільнили</td>\n",
       "    </tr>\n",
       "    <tr>\n",
       "      <th>2</th>\n",
       "      <td>INTER/16144517608610/wav/spk_id_10294_16144517...</td>\n",
       "      <td>майже п'ять тисяч своїх працівників повідомили\\n</td>\n",
       "      <td>майже п'ять тисяч своїх працівників повідомили</td>\n",
       "    </tr>\n",
       "    <tr>\n",
       "      <th>3</th>\n",
       "      <td>INTER/16144517608610/wav/spk_id_10294_16144517...</td>\n",
       "      <td>найбільше людей втратили роботу\\n</td>\n",
       "      <td>найбільше людей втратила роботу в</td>\n",
       "    </tr>\n",
       "    <tr>\n",
       "      <th>4</th>\n",
       "      <td>INTER/16144517608610/wav/spk_id_10294_16144517...</td>\n",
       "      <td>скорочення\\n</td>\n",
       "      <td>скорочення</td>\n",
       "    </tr>\n",
       "  </tbody>\n",
       "</table>\n",
       "</div>"
      ],
      "text/plain": [
       "                                                path  \\\n",
       "0  INTER/16144517608610/wav/spk_id_10294_16144517...   \n",
       "1  INTER/16144517608610/wav/spk_id_10294_16144517...   \n",
       "2  INTER/16144517608610/wav/spk_id_10294_16144517...   \n",
       "3  INTER/16144517608610/wav/spk_id_10294_16144517...   \n",
       "4  INTER/16144517608610/wav/spk_id_10294_16144517...   \n",
       "\n",
       "                                      transcription  \\\n",
       "0                           тільки за минулий рік\\n   \n",
       "1                                       звільнили\\n   \n",
       "2  майже п'ять тисяч своїх працівників повідомили\\n   \n",
       "3                 найбільше людей втратили роботу\\n   \n",
       "4                                      скорочення\\n   \n",
       "\n",
       "                                   generated_text  \n",
       "0                            тільки за минули ріг  \n",
       "1                                       звільнили  \n",
       "2  майже п'ять тисяч своїх працівників повідомили  \n",
       "3               найбільше людей втратила роботу в  \n",
       "4                                      скорочення  "
      ]
     },
     "execution_count": 17,
     "metadata": {},
     "output_type": "execute_result"
    }
   ],
   "source": [
    "transcripts.head()"
   ]
  },
  {
   "cell_type": "markdown",
   "id": "aa60099c-5a34-4b08-acca-3e35ed91d3e8",
   "metadata": {},
   "source": [
    "To calculate the length difference between the transcript and the generated text, first remove the newline character, if it is present in the transcript. Then, subtract the length of the generated text from the transcript length. Append the result to a list and save the list as a column in the dataframe."
   ]
  },
  {
   "cell_type": "code",
   "execution_count": 18,
   "id": "6c0c7221-0c21-494d-9e9d-c5a7803cc73b",
   "metadata": {},
   "outputs": [],
   "source": [
    "# Calculate length difference between transcripts\n",
    "length = []\n",
    "for i in range(len(transcripts['path'])):\n",
    "    transcripts['transcription'][i] = transcripts['transcription'][i].rstrip('\\n')\n",
    "    length.append(len(transcripts['transcription'][i]) - len(transcripts['generated_text'][i]))"
   ]
  },
  {
   "cell_type": "code",
   "execution_count": 19,
   "id": "a641ace8-bda1-4f3a-9a81-069f646fbf88",
   "metadata": {},
   "outputs": [
    {
     "data": {
      "text/html": [
       "<div>\n",
       "<style scoped>\n",
       "    .dataframe tbody tr th:only-of-type {\n",
       "        vertical-align: middle;\n",
       "    }\n",
       "\n",
       "    .dataframe tbody tr th {\n",
       "        vertical-align: top;\n",
       "    }\n",
       "\n",
       "    .dataframe thead th {\n",
       "        text-align: right;\n",
       "    }\n",
       "</style>\n",
       "<table border=\"1\" class=\"dataframe\">\n",
       "  <thead>\n",
       "    <tr style=\"text-align: right;\">\n",
       "      <th></th>\n",
       "      <th>path</th>\n",
       "      <th>transcription</th>\n",
       "      <th>generated_text</th>\n",
       "      <th>length_diff</th>\n",
       "    </tr>\n",
       "  </thead>\n",
       "  <tbody>\n",
       "    <tr>\n",
       "      <th>0</th>\n",
       "      <td>INTER/16144517608610/wav/spk_id_10294_16144517...</td>\n",
       "      <td>тільки за минулий рік</td>\n",
       "      <td>тільки за минули ріг</td>\n",
       "      <td>1</td>\n",
       "    </tr>\n",
       "    <tr>\n",
       "      <th>1</th>\n",
       "      <td>INTER/16144517608610/wav/spk_id_10294_16144517...</td>\n",
       "      <td>звільнили</td>\n",
       "      <td>звільнили</td>\n",
       "      <td>0</td>\n",
       "    </tr>\n",
       "    <tr>\n",
       "      <th>2</th>\n",
       "      <td>INTER/16144517608610/wav/spk_id_10294_16144517...</td>\n",
       "      <td>майже п'ять тисяч своїх працівників повідомили</td>\n",
       "      <td>майже п'ять тисяч своїх працівників повідомили</td>\n",
       "      <td>0</td>\n",
       "    </tr>\n",
       "    <tr>\n",
       "      <th>3</th>\n",
       "      <td>INTER/16144517608610/wav/spk_id_10294_16144517...</td>\n",
       "      <td>найбільше людей втратили роботу</td>\n",
       "      <td>найбільше людей втратила роботу в</td>\n",
       "      <td>-2</td>\n",
       "    </tr>\n",
       "    <tr>\n",
       "      <th>4</th>\n",
       "      <td>INTER/16144517608610/wav/spk_id_10294_16144517...</td>\n",
       "      <td>скорочення</td>\n",
       "      <td>скорочення</td>\n",
       "      <td>0</td>\n",
       "    </tr>\n",
       "  </tbody>\n",
       "</table>\n",
       "</div>"
      ],
      "text/plain": [
       "                                                path  \\\n",
       "0  INTER/16144517608610/wav/spk_id_10294_16144517...   \n",
       "1  INTER/16144517608610/wav/spk_id_10294_16144517...   \n",
       "2  INTER/16144517608610/wav/spk_id_10294_16144517...   \n",
       "3  INTER/16144517608610/wav/spk_id_10294_16144517...   \n",
       "4  INTER/16144517608610/wav/spk_id_10294_16144517...   \n",
       "\n",
       "                                    transcription  \\\n",
       "0                           тільки за минулий рік   \n",
       "1                                       звільнили   \n",
       "2  майже п'ять тисяч своїх працівників повідомили   \n",
       "3                 найбільше людей втратили роботу   \n",
       "4                                      скорочення   \n",
       "\n",
       "                                   generated_text  length_diff  \n",
       "0                            тільки за минули ріг            1  \n",
       "1                                       звільнили            0  \n",
       "2  майже п'ять тисяч своїх працівників повідомили            0  \n",
       "3               найбільше людей втратила роботу в           -2  \n",
       "4                                      скорочення            0  "
      ]
     },
     "execution_count": 19,
     "metadata": {},
     "output_type": "execute_result"
    }
   ],
   "source": [
    "# Create column in dataset\n",
    "transcripts['length_diff'] = length\n",
    "transcripts.head()"
   ]
  },
  {
   "cell_type": "markdown",
   "id": "bd8107b4-b446-4ed4-8ba4-15be58aa0df8",
   "metadata": {},
   "source": [
    "Based on the difference, classificate each transcript into one of three categories: incomplete (difference is equal or less than -10), inconclusive (difference is equal to or less than -5), or complete (difference is greater than -5). Save the classification as a new column of the dataframe and then save the dataframe as a csv file."
   ]
  },
  {
   "cell_type": "code",
   "execution_count": 21,
   "id": "e4ecf83f-871a-426b-930b-223098299606",
   "metadata": {},
   "outputs": [
    {
     "name": "stderr",
     "output_type": "stream",
     "text": [
      "/tmp/ipykernel_502/944441250.py:11: SettingWithCopyWarning: \n",
      "A value is trying to be set on a copy of a slice from a DataFrame\n",
      "\n",
      "See the caveats in the documentation: https://pandas.pydata.org/pandas-docs/stable/user_guide/indexing.html#returning-a-view-versus-a-copy\n",
      "  transcripts['length_cat'][i] = 'complete'\n"
     ]
    },
    {
     "data": {
      "text/html": [
       "<div>\n",
       "<style scoped>\n",
       "    .dataframe tbody tr th:only-of-type {\n",
       "        vertical-align: middle;\n",
       "    }\n",
       "\n",
       "    .dataframe tbody tr th {\n",
       "        vertical-align: top;\n",
       "    }\n",
       "\n",
       "    .dataframe thead th {\n",
       "        text-align: right;\n",
       "    }\n",
       "</style>\n",
       "<table border=\"1\" class=\"dataframe\">\n",
       "  <thead>\n",
       "    <tr style=\"text-align: right;\">\n",
       "      <th></th>\n",
       "      <th>path</th>\n",
       "      <th>transcription</th>\n",
       "      <th>generated_text</th>\n",
       "      <th>length_diff</th>\n",
       "      <th>length_cat</th>\n",
       "    </tr>\n",
       "  </thead>\n",
       "  <tbody>\n",
       "    <tr>\n",
       "      <th>0</th>\n",
       "      <td>INTER/16144517608610/wav/spk_id_10294_16144517...</td>\n",
       "      <td>тільки за минулий рік</td>\n",
       "      <td>тільки за минули ріг</td>\n",
       "      <td>1</td>\n",
       "      <td>complete</td>\n",
       "    </tr>\n",
       "    <tr>\n",
       "      <th>1</th>\n",
       "      <td>INTER/16144517608610/wav/spk_id_10294_16144517...</td>\n",
       "      <td>звільнили</td>\n",
       "      <td>звільнили</td>\n",
       "      <td>0</td>\n",
       "      <td>complete</td>\n",
       "    </tr>\n",
       "    <tr>\n",
       "      <th>2</th>\n",
       "      <td>INTER/16144517608610/wav/spk_id_10294_16144517...</td>\n",
       "      <td>майже п'ять тисяч своїх працівників повідомили</td>\n",
       "      <td>майже п'ять тисяч своїх працівників повідомили</td>\n",
       "      <td>0</td>\n",
       "      <td>complete</td>\n",
       "    </tr>\n",
       "    <tr>\n",
       "      <th>3</th>\n",
       "      <td>INTER/16144517608610/wav/spk_id_10294_16144517...</td>\n",
       "      <td>найбільше людей втратили роботу</td>\n",
       "      <td>найбільше людей втратила роботу в</td>\n",
       "      <td>-2</td>\n",
       "      <td>complete</td>\n",
       "    </tr>\n",
       "    <tr>\n",
       "      <th>4</th>\n",
       "      <td>INTER/16144517608610/wav/spk_id_10294_16144517...</td>\n",
       "      <td>скорочення</td>\n",
       "      <td>скорочення</td>\n",
       "      <td>0</td>\n",
       "      <td>complete</td>\n",
       "    </tr>\n",
       "  </tbody>\n",
       "</table>\n",
       "</div>"
      ],
      "text/plain": [
       "                                                path  \\\n",
       "0  INTER/16144517608610/wav/spk_id_10294_16144517...   \n",
       "1  INTER/16144517608610/wav/spk_id_10294_16144517...   \n",
       "2  INTER/16144517608610/wav/spk_id_10294_16144517...   \n",
       "3  INTER/16144517608610/wav/spk_id_10294_16144517...   \n",
       "4  INTER/16144517608610/wav/spk_id_10294_16144517...   \n",
       "\n",
       "                                    transcription  \\\n",
       "0                           тільки за минулий рік   \n",
       "1                                       звільнили   \n",
       "2  майже п'ять тисяч своїх працівників повідомили   \n",
       "3                 найбільше людей втратили роботу   \n",
       "4                                      скорочення   \n",
       "\n",
       "                                   generated_text  length_diff length_cat  \n",
       "0                            тільки за минули ріг            1   complete  \n",
       "1                                       звільнили            0   complete  \n",
       "2  майже п'ять тисяч своїх працівників повідомили            0   complete  \n",
       "3               найбільше людей втратила роботу в           -2   complete  \n",
       "4                                      скорочення            0   complete  "
      ]
     },
     "execution_count": 21,
     "metadata": {},
     "output_type": "execute_result"
    }
   ],
   "source": [
    "# Classificate transcripts according to length difference\n",
    "\n",
    "transcripts['length_cat'] = [0 for x in range(15906)]\n",
    "\n",
    "for i in range(len(transcripts['length_diff'])):\n",
    "  if transcripts['length_diff'][i] <= -10:\n",
    "    transcripts['length_cat'][i] = 'incomplete'\n",
    "  elif transcripts['length_diff'][i] <= -5:\n",
    "    transcripts['length_cat'][i] = 'inconclusive'\n",
    "  else:\n",
    "    transcripts['length_cat'][i] = 'complete'\n",
    "    \n",
    "\n",
    "transcripts.to_csv('transcripts_length_cat_inter.csv', encoding='utf-8')\n",
    "transcripts.head()"
   ]
  },
  {
   "cell_type": "markdown",
   "id": "026c6d12-7393-483b-8732-25c9da6f1b5f",
   "metadata": {},
   "source": [
    "To have a picture about the completeness of the transcripts, count and plot the values in each category."
   ]
  },
  {
   "cell_type": "code",
   "execution_count": 22,
   "id": "a1b1f717-2091-4b85-ae59-3b2adf32a67e",
   "metadata": {},
   "outputs": [
    {
     "data": {
      "text/plain": [
       "complete        12889\n",
       "incomplete       2353\n",
       "inconclusive      664\n",
       "Name: length_cat, dtype: int64"
      ]
     },
     "execution_count": 22,
     "metadata": {},
     "output_type": "execute_result"
    }
   ],
   "source": [
    "# Count n of transcripts per category\n",
    "transcripts['length_cat'].value_counts()"
   ]
  },
  {
   "cell_type": "code",
   "execution_count": 23,
   "id": "e7b763b0-925d-4459-bf26-8ac11f6ab556",
   "metadata": {},
   "outputs": [
    {
     "data": {
      "text/plain": [
       "<AxesSubplot: >"
      ]
     },
     "execution_count": 23,
     "metadata": {},
     "output_type": "execute_result"
    },
    {
     "data": {
      "image/png": "[encoded data removed]",
      "text/plain": [
       "<Figure size 640x480 with 1 Axes>"
      ]
     },
     "metadata": {},
     "output_type": "display_data"
    }
   ],
   "source": [
    "transcripts['length_cat'].value_counts().plot.bar()"
   ]
  },
  {
   "cell_type": "markdown",
   "id": "8c3f7a7f-92d6-4d38-8130-864d80f67eda",
   "metadata": {},
   "source": [
    "Finally, select only the transcripts classificated as incomplete or inconclusive and save them into a text file for manual inspection. The text file contains the path, the transcript, and the generated text, each in a different line, with a blank line separating each sentence."
   ]
  },
  {
   "cell_type": "code",
   "execution_count": 24,
   "id": "1daf9ea5-494d-4628-8116-ebb73ba8e0bf",
   "metadata": {},
   "outputs": [
    {
     "data": {
      "text/html": [
       "<div>\n",
       "<style scoped>\n",
       "    .dataframe tbody tr th:only-of-type {\n",
       "        vertical-align: middle;\n",
       "    }\n",
       "\n",
       "    .dataframe tbody tr th {\n",
       "        vertical-align: top;\n",
       "    }\n",
       "\n",
       "    .dataframe thead th {\n",
       "        text-align: right;\n",
       "    }\n",
       "</style>\n",
       "<table border=\"1\" class=\"dataframe\">\n",
       "  <thead>\n",
       "    <tr style=\"text-align: right;\">\n",
       "      <th></th>\n",
       "      <th>path</th>\n",
       "      <th>transcription</th>\n",
       "      <th>generated_text</th>\n",
       "      <th>length_diff</th>\n",
       "      <th>length_cat</th>\n",
       "    </tr>\n",
       "  </thead>\n",
       "  <tbody>\n",
       "    <tr>\n",
       "      <th>5</th>\n",
       "      <td>INTER/16144517608610/wav/spk_id_10294_16144517...</td>\n",
       "      <td>штатів цього</td>\n",
       "      <td>штатів продовжуються й цього</td>\n",
       "      <td>-16</td>\n",
       "      <td>incomplete</td>\n",
       "    </tr>\n",
       "    <tr>\n",
       "      <th>10</th>\n",
       "      <td>INTER/16144517608610/wav/spk_id_10143_16144517...</td>\n",
       "      <td>ніж квартири</td>\n",
       "      <td>ніж одно кімнатної квартири</td>\n",
       "      <td>-15</td>\n",
       "      <td>incomplete</td>\n",
       "    </tr>\n",
       "    <tr>\n",
       "      <th>13</th>\n",
       "      <td>INTER/16144517608610/wav/spk_id_10952_16144517...</td>\n",
       "      <td>помешкання площею від шести квадратних метрів ...</td>\n",
       "      <td>помешкання площуювід шести квадратних метрів к...</td>\n",
       "      <td>-8</td>\n",
       "      <td>inconclusive</td>\n",
       "    </tr>\n",
       "    <tr>\n",
       "      <th>36</th>\n",
       "      <td>INTER/16144517823019/wav/spk_id_10381_16144518...</td>\n",
       "      <td>днями затримала</td>\n",
       "      <td>днями кіберполіція затримала</td>\n",
       "      <td>-13</td>\n",
       "      <td>incomplete</td>\n",
       "    </tr>\n",
       "    <tr>\n",
       "      <th>43</th>\n",
       "      <td>INTER/16144517823019/wav/spk_id_9419_161445182...</td>\n",
       "      <td>тлі європейці</td>\n",
       "      <td>тлі пандемії європейці</td>\n",
       "      <td>-9</td>\n",
       "      <td>inconclusive</td>\n",
       "    </tr>\n",
       "  </tbody>\n",
       "</table>\n",
       "</div>"
      ],
      "text/plain": [
       "                                                 path  \\\n",
       "5   INTER/16144517608610/wav/spk_id_10294_16144517...   \n",
       "10  INTER/16144517608610/wav/spk_id_10143_16144517...   \n",
       "13  INTER/16144517608610/wav/spk_id_10952_16144517...   \n",
       "36  INTER/16144517823019/wav/spk_id_10381_16144518...   \n",
       "43  INTER/16144517823019/wav/spk_id_9419_161445182...   \n",
       "\n",
       "                                        transcription  \\\n",
       "5                                        штатів цього   \n",
       "10                                       ніж квартири   \n",
       "13  помешкання площею від шести квадратних метрів ...   \n",
       "36                                    днями затримала   \n",
       "43                                      тлі європейці   \n",
       "\n",
       "                                       generated_text  length_diff  \\\n",
       "5                        штатів продовжуються й цього          -16   \n",
       "10                        ніж одно кімнатної квартири          -15   \n",
       "13  помешкання площуювід шести квадратних метрів к...           -8   \n",
       "36                       днями кіберполіція затримала          -13   \n",
       "43                             тлі пандемії європейці           -9   \n",
       "\n",
       "      length_cat  \n",
       "5     incomplete  \n",
       "10    incomplete  \n",
       "13  inconclusive  \n",
       "36    incomplete  \n",
       "43  inconclusive  "
      ]
     },
     "execution_count": 24,
     "metadata": {},
     "output_type": "execute_result"
    }
   ],
   "source": [
    "# Select only transcripts in the incomplete and inconclusive categories\n",
    "txt = transcripts.loc[(transcripts['length_cat'] == 'incomplete') | (transcripts['length_cat'] == 'inconclusive')]\n",
    "txt.head()"
   ]
  },
  {
   "cell_type": "code",
   "execution_count": 25,
   "id": "ef8902be-84e3-4d32-ab44-308d37942408",
   "metadata": {},
   "outputs": [],
   "source": [
    "# Save in a text file\n",
    "with open('transcripts_inter.txt', 'w', encoding='utf-8') as f:\n",
    "    for t in range(len(txt)):\n",
    "        f.write(txt.iloc[t,0]+'\\n')\n",
    "        f.write(txt.iloc[t,1]+'\\n')\n",
    "        f.write(txt.iloc[t,2]+'\\n')\n",
    "        f.write('\\n\\n')"
   ]
  }
 ],
 "metadata": {
  "kernelspec": {
   "display_name": "default:Python",
   "language": "python",
   "name": "conda-env-default-py"
  },
  "language_info": {
   "codemirror_mode": {
    "name": "ipython",
    "version": 3
   },
   "file_extension": ".py",
   "mimetype": "text/x-python",
   "name": "python",
   "nbconvert_exporter": "python",
   "pygments_lexer": "ipython3",
   "version": "3.9.13"
  }
 },
 "nbformat": 4,
 "nbformat_minor": 5
}
