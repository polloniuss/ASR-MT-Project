{
 "cells": [
  {
   "cell_type": "markdown",
   "id": "0a8c2544-748f-493b-8920-9952ae274244",
   "metadata": {
    "jp-MarkdownHeadingCollapsed": true,
    "tags": []
   },
   "source": [
    "## Import libraries, load ASR function, unzip dataset, and download model"
   ]
  },
  {
   "cell_type": "code",
   "execution_count": null,
   "id": "25f86949-8d24-4c1c-b2e4-7f1bd1f4e5f4",
   "metadata": {},
   "outputs": [],
   "source": [
    "!pip install -r requirements.txt"
   ]
  },
  {
   "cell_type": "code",
   "execution_count": 2,
   "id": "bbdfeca6-403c-4b0b-8eb8-9e54dfee9670",
   "metadata": {},
   "outputs": [],
   "source": [
    "import os\n",
    "import transformers\n",
    "import torchaudio\n",
    "import numpy as np\n",
    "import sentencepiece\n",
    "import csv\n",
    "import pandas as pd\n",
    "\n",
    "from pyctcdecode import build_ctcdecoder\n",
    "from transformers import Wav2Vec2ProcessorWithLM, Wav2Vec2ForCTC, Wav2Vec2CTCTokenizer, Wav2Vec2FeatureExtractor, AutoTokenizer, AutoModelForSeq2SeqLM\n",
    "from scipy.io.wavfile import write\n",
    "import matplotlib.pyplot as plt"
   ]
  },
  {
   "cell_type": "markdown",
   "id": "be6a4a3a-1315-44ed-a1c6-bb1b3e96072b",
   "metadata": {},
   "source": [
    "This function performs text generation from audio files in wav format.\n",
    "It loads the audio file into an array, adjust the sample rate to the one required by the model (16000) and run it into the model that generates text from the waveform."
   ]
  },
  {
   "cell_type": "code",
   "execution_count": 3,
   "id": "73e9a2df-37bd-41c5-92b7-393c5396bf90",
   "metadata": {},
   "outputs": [],
   "source": [
    "def asr_model(wav_file, model, processor):\n",
    "    waveform, sample_rate = torchaudio.load(wav_file)\n",
    "    resampler = torchaudio.transforms.Resample(orig_freq=sample_rate, new_freq=16000, resampling_method='sinc_interpolation')\n",
    "    # Downsampling is required to match the model's frequency, i.e.\n",
    "    # the frequency of the dataset the model was trained on.\n",
    "    speech_array = resampler(waveform).squeeze().numpy()\n",
    "    inputs = processor(speech_array, sampling_rate=16000, return_tensors=\"pt\")['input_values']\n",
    "    # Detach the tensors first (otherwise, they require gradients\n",
    "    # to be computed); also, since we're simulating the inference\n",
    "    # squeeze the resulting array at the first dimension (batch_size),\n",
    "    # otherwise, leave it as is, and call batch_decode() instead.\n",
    "    outputs = model(inputs)['logits'].detach().numpy().squeeze(0)\n",
    "    return(processor.decode(outputs).text)"
   ]
  },
  {
   "cell_type": "markdown",
   "id": "21cd31a5-9cd7-4552-aa57-1a82d3792184",
   "metadata": {},
   "source": [
    "Download model and processor to be used in the function above."
   ]
  },
  {
   "cell_type": "code",
   "execution_count": 4,
   "id": "bf3c4c25-05dc-4a12-adb8-8a2b615c166e",
   "metadata": {},
   "outputs": [],
   "source": [
    "model = Wav2Vec2ForCTC.from_pretrained(\"Yehor/wav2vec2-xls-r-300m-uk-with-small-lm\")"
   ]
  },
  {
   "cell_type": "code",
   "execution_count": 5,
   "id": "9519fea0-7f6d-4fc8-a9c3-994f9c57fd89",
   "metadata": {},
   "outputs": [
    {
     "name": "stderr",
     "output_type": "stream",
     "text": [
      "/home/studio-lab-user/.conda/envs/default/lib/python3.9/site-packages/huggingface_hub/utils/_deprecation.py:97: FutureWarning: Deprecated argument(s) used in 'snapshot_download': allow_regex. Will not be supported from version '0.12'.\n",
      "\n",
      "Please use `allow_patterns` and `ignore_patterns` instead.\n",
      "  warnings.warn(message, FutureWarning)\n"
     ]
    },
    {
     "data": {
      "application/vnd.jupyter.widget-view+json": {
       "model_id": "e2ba7746b3654809bafe154fe0ce5ef0",
       "version_major": 2,
       "version_minor": 0
      },
      "text/plain": [
       "Fetching 4 files:   0%|          | 0/4 [00:00<?, ?it/s]"
      ]
     },
     "metadata": {},
     "output_type": "display_data"
    },
    {
     "name": "stderr",
     "output_type": "stream",
     "text": [
      "Loading the LM will be faster if you build a binary file.\n",
      "Reading /home/studio-lab-user/.cache/pyctcdecode/models--Yehor--wav2vec2-xls-r-300m-uk-with-small-lm/snapshots/bbd936400e7566ba44560440aa4abd05b5983c17/language_model/5gram_correct.arpa\n",
      "----5---10---15---20---25---30---35---40---45---50---55---60---65---70---75---80---85---90---95--100\n",
      "****************************************************************************************************\n"
     ]
    }
   ],
   "source": [
    "processor = Wav2Vec2ProcessorWithLM.from_pretrained(\"Yehor/wav2vec2-xls-r-300m-uk-with-small-lm\")"
   ]
  },
  {
   "cell_type": "markdown",
   "id": "1444ad8e-5fa8-4a70-9e31-cdd58e0261cd",
   "metadata": {
    "tags": []
   },
   "source": [
    "## Prepare dataset"
   ]
  },
  {
   "cell_type": "markdown",
   "id": "d6862327-2758-4b9b-ad2d-876dfc072296",
   "metadata": {},
   "source": [
    "Change directory to the files location. List all the directories in the location to access the files from them."
   ]
  },
  {
   "cell_type": "code",
   "execution_count": 23,
   "id": "4c3e0a01-ea3b-442a-8647-74b11e5975ff",
   "metadata": {},
   "outputs": [
    {
     "name": "stdout",
     "output_type": "stream",
     "text": [
      "/home/studio-lab-user/sagemaker-studiolab-notebooks/PODROBNOSTY\n"
     ]
    }
   ],
   "source": [
    "# Save list of directories in the dataset folder\n",
    "\n",
    "%cd '/home/studio-lab-user/sagemaker-studiolab-notebooks/PODROBNOSTY'\n",
    "\n",
    "folders = os.listdir()\n",
    "folders = folders[:-1]"
   ]
  },
  {
   "cell_type": "markdown",
   "id": "f626e561-3586-44b5-8e01-3131cb3a2695",
   "metadata": {},
   "source": [
    "Create a variable to store the file paths and their corresponding transcripts. The variable is a list containing sublists for each pair if path and transcript.\n",
    "Then, open the file in each directory of the list created before. For each line of the opened file, remove the '/' in the beginning of the line, to keep the path in the appropriate format. In this dataset, the paths and transcripts are separated by two spaces, so a string containing two spaces is used to split the line into a list containing those two elements."
   ]
  },
  {
   "cell_type": "code",
   "execution_count": 24,
   "id": "4145bf98-79f9-4707-a01f-96df094b5bb2",
   "metadata": {},
   "outputs": [],
   "source": [
    "# Open text files in the dataset folders and save each row in a list (splitting the file path and the transcription into an inner list)\n",
    "text = []\n",
    "for f in folders:\n",
    "    file = open(f+'/etc/txt.done.data', 'r', encoding='utf8')\n",
    "    for line in file:\n",
    "        line = line.lstrip('/')\n",
    "        text.append(line.split('  '))"
   ]
  },
  {
   "cell_type": "markdown",
   "id": "732c6c56-7a98-4f7b-824e-f56a216ba6f0",
   "metadata": {},
   "source": [
    "Check if the path and the transcript were splitted correctly by printing the first line. Check if the length of the list matches the size of the dataset (number of wav files)."
   ]
  },
  {
   "cell_type": "code",
   "execution_count": 12,
   "id": "34fa574d-65d4-4196-96c6-b1a656bbca27",
   "metadata": {},
   "outputs": [
    {
     "name": "stdout",
     "output_type": "stream",
     "text": [
      "1008\n"
     ]
    }
   ],
   "source": [
    "print(len(text))"
   ]
  },
  {
   "cell_type": "code",
   "execution_count": 28,
   "id": "4055662a-075a-4468-9a40-8fc4474c7ac3",
   "metadata": {},
   "outputs": [
    {
     "name": "stdout",
     "output_type": "stream",
     "text": [
      "['PODROBNOSTY/16144785683468/wav/spk_id_10704_16144786282442.wav', 'нужденні стали єдиними у бельгії хто має право відвідувати\\n', 'нужденні стали єдинами у бельгії хто має право відвідувати']\n"
     ]
    }
   ],
   "source": [
    "print(text[0])"
   ]
  },
  {
   "cell_type": "markdown",
   "id": "fe4bb8b7-8cde-4c08-9da2-2b7d4e086377",
   "metadata": {
    "jp-MarkdownHeadingCollapsed": true,
    "tags": []
   },
   "source": [
    "## Generate text"
   ]
  },
  {
   "cell_type": "markdown",
   "id": "dfa7b2c5-6427-4c8c-b12c-caffa38e69de",
   "metadata": {},
   "source": [
    "Change the working directory again to create a csv file that will store all the paths, transcripts, and generated text from the ASR model. First, write a header to the file. Next, the loop calls the function to generate text. The output is saved into a variable that is appended to the list containing the path and transcript for the sentence.\n",
    "Lastly, the list with all the sentences, containing path + transcript + generated text, is written to the csv file."
   ]
  },
  {
   "cell_type": "code",
   "execution_count": 26,
   "id": "5d168a14-42a3-4e79-91f4-c18595359f88",
   "metadata": {},
   "outputs": [
    {
     "name": "stdout",
     "output_type": "stream",
     "text": [
      "/home/studio-lab-user/sagemaker-studiolab-notebooks\n"
     ]
    }
   ],
   "source": [
    "%cd '/home/studio-lab-user/sagemaker-studiolab-notebooks/'"
   ]
  },
  {
   "cell_type": "code",
   "execution_count": 27,
   "id": "ab632c33-2d1a-4140-a435-488e74c2cecf",
   "metadata": {},
   "outputs": [],
   "source": [
    "# Save transcription and generated text into a csv file\n",
    "for i in range(len(text)):\n",
    "    gen_text = asr_model(text[i][0], model, processor)\n",
    "    text[i].append(gen_text)\n",
    "\n",
    "with open('PODROBNOSTY_transcription_generated-text.csv', 'w', encoding='UTF8', newline='\\n') as f:\n",
    "    writer = csv.writer(f)\n",
    "\n",
    "    # write the header\n",
    "    writer.writerow(['path', 'transcription', 'generated_text'])\n",
    "\n",
    "    # write the data\n",
    "    writer.writerows(text)"
   ]
  },
  {
   "cell_type": "markdown",
   "id": "05f35323-e08b-4299-a24e-4d0e6f5afd4b",
   "metadata": {
    "jp-MarkdownHeadingCollapsed": true,
    "tags": []
   },
   "source": [
    "## Length Classification"
   ]
  },
  {
   "cell_type": "markdown",
   "id": "c9c078b6-0d43-440a-835d-70d585e6af57",
   "metadata": {},
   "source": [
    "Load the csv containing the wav path, transcript, and generated text as a pandas dataframe."
   ]
  },
  {
   "cell_type": "code",
   "execution_count": 30,
   "id": "e3bace2f-5beb-488b-89fe-0d35ba5d5079",
   "metadata": {},
   "outputs": [],
   "source": [
    "transcripts = pd.read_csv(\"PODROBNOSTY_transcription_generated-text.csv\", encoding='utf-8')"
   ]
  },
  {
   "cell_type": "code",
   "execution_count": 31,
   "id": "ceb89858-a302-4069-9916-e2419e0a2179",
   "metadata": {},
   "outputs": [
    {
     "data": {
      "text/html": [
       "<div>\n",
       "<style scoped>\n",
       "    .dataframe tbody tr th:only-of-type {\n",
       "        vertical-align: middle;\n",
       "    }\n",
       "\n",
       "    .dataframe tbody tr th {\n",
       "        vertical-align: top;\n",
       "    }\n",
       "\n",
       "    .dataframe thead th {\n",
       "        text-align: right;\n",
       "    }\n",
       "</style>\n",
       "<table border=\"1\" class=\"dataframe\">\n",
       "  <thead>\n",
       "    <tr style=\"text-align: right;\">\n",
       "      <th></th>\n",
       "      <th>path</th>\n",
       "      <th>transcription</th>\n",
       "      <th>generated_text</th>\n",
       "    </tr>\n",
       "  </thead>\n",
       "  <tbody>\n",
       "    <tr>\n",
       "      <th>0</th>\n",
       "      <td>PODROBNOSTY/16144785683468/wav/spk_id_10704_16...</td>\n",
       "      <td>нужденні стали єдиними у бельгії хто має право...</td>\n",
       "      <td>нужденні стали єдинами у бельгії хто має право...</td>\n",
       "    </tr>\n",
       "    <tr>\n",
       "      <th>1</th>\n",
       "      <td>PODROBNOSTY/16144785683468/wav/spk_id_10704_16...</td>\n",
       "      <td>щоправда про\\n</td>\n",
       "      <td>щоправда мова про</td>\n",
       "    </tr>\n",
       "    <tr>\n",
       "      <th>2</th>\n",
       "      <td>PODROBNOSTY/16144785683468/wav/spk_id_10704_16...</td>\n",
       "      <td>заклади годують\\n</td>\n",
       "      <td>закладе де годують</td>\n",
       "    </tr>\n",
       "    <tr>\n",
       "      <th>3</th>\n",
       "      <td>PODROBNOSTY/16144785683468/wav/spk_id_10704_16...</td>\n",
       "      <td>лише тих хто\\n</td>\n",
       "      <td>лише ти хто</td>\n",
       "    </tr>\n",
       "    <tr>\n",
       "      <th>4</th>\n",
       "      <td>PODROBNOSTY/16144785683468/wav/spk_id_10704_16...</td>\n",
       "      <td>на це абонемент\\n</td>\n",
       "      <td>на це попередній абонемент</td>\n",
       "    </tr>\n",
       "  </tbody>\n",
       "</table>\n",
       "</div>"
      ],
      "text/plain": [
       "                                                path  \\\n",
       "0  PODROBNOSTY/16144785683468/wav/spk_id_10704_16...   \n",
       "1  PODROBNOSTY/16144785683468/wav/spk_id_10704_16...   \n",
       "2  PODROBNOSTY/16144785683468/wav/spk_id_10704_16...   \n",
       "3  PODROBNOSTY/16144785683468/wav/spk_id_10704_16...   \n",
       "4  PODROBNOSTY/16144785683468/wav/spk_id_10704_16...   \n",
       "\n",
       "                                       transcription  \\\n",
       "0  нужденні стали єдиними у бельгії хто має право...   \n",
       "1                                     щоправда про\\n   \n",
       "2                                  заклади годують\\n   \n",
       "3                                     лише тих хто\\n   \n",
       "4                                  на це абонемент\\n   \n",
       "\n",
       "                                      generated_text  \n",
       "0  нужденні стали єдинами у бельгії хто має право...  \n",
       "1                                  щоправда мова про  \n",
       "2                                 закладе де годують  \n",
       "3                                        лише ти хто  \n",
       "4                         на це попередній абонемент  "
      ]
     },
     "execution_count": 31,
     "metadata": {},
     "output_type": "execute_result"
    }
   ],
   "source": [
    "transcripts.head()"
   ]
  },
  {
   "cell_type": "markdown",
   "id": "63f84500-ec44-469d-a786-a0d5aaee1f31",
   "metadata": {},
   "source": [
    "To calculate the length difference between the transcript and the generated text, first remove the newline character, if it is present in the transcript. Then, subtract the length of the generated text from the transcript length. Append the result to a list and save the list as a column in the dataframe."
   ]
  },
  {
   "cell_type": "code",
   "execution_count": 32,
   "id": "6c0c7221-0c21-494d-9e9d-c5a7803cc73b",
   "metadata": {},
   "outputs": [],
   "source": [
    "# Calculate length difference between transcripts\n",
    "length = []\n",
    "for i in range(len(transcripts['path'])):\n",
    "    transcripts['transcription'][i] = transcripts['transcription'][i].rstrip('\\n')\n",
    "    length.append(len(transcripts['transcription'][i]) - len(transcripts['generated_text'][i]))"
   ]
  },
  {
   "cell_type": "code",
   "execution_count": 33,
   "id": "a641ace8-bda1-4f3a-9a81-069f646fbf88",
   "metadata": {},
   "outputs": [
    {
     "data": {
      "text/html": [
       "<div>\n",
       "<style scoped>\n",
       "    .dataframe tbody tr th:only-of-type {\n",
       "        vertical-align: middle;\n",
       "    }\n",
       "\n",
       "    .dataframe tbody tr th {\n",
       "        vertical-align: top;\n",
       "    }\n",
       "\n",
       "    .dataframe thead th {\n",
       "        text-align: right;\n",
       "    }\n",
       "</style>\n",
       "<table border=\"1\" class=\"dataframe\">\n",
       "  <thead>\n",
       "    <tr style=\"text-align: right;\">\n",
       "      <th></th>\n",
       "      <th>path</th>\n",
       "      <th>transcription</th>\n",
       "      <th>generated_text</th>\n",
       "      <th>length_diff</th>\n",
       "    </tr>\n",
       "  </thead>\n",
       "  <tbody>\n",
       "    <tr>\n",
       "      <th>0</th>\n",
       "      <td>PODROBNOSTY/16144785683468/wav/spk_id_10704_16...</td>\n",
       "      <td>нужденні стали єдиними у бельгії хто має право...</td>\n",
       "      <td>нужденні стали єдинами у бельгії хто має право...</td>\n",
       "      <td>0</td>\n",
       "    </tr>\n",
       "    <tr>\n",
       "      <th>1</th>\n",
       "      <td>PODROBNOSTY/16144785683468/wav/spk_id_10704_16...</td>\n",
       "      <td>щоправда про</td>\n",
       "      <td>щоправда мова про</td>\n",
       "      <td>-5</td>\n",
       "    </tr>\n",
       "    <tr>\n",
       "      <th>2</th>\n",
       "      <td>PODROBNOSTY/16144785683468/wav/spk_id_10704_16...</td>\n",
       "      <td>заклади годують</td>\n",
       "      <td>закладе де годують</td>\n",
       "      <td>-3</td>\n",
       "    </tr>\n",
       "    <tr>\n",
       "      <th>3</th>\n",
       "      <td>PODROBNOSTY/16144785683468/wav/spk_id_10704_16...</td>\n",
       "      <td>лише тих хто</td>\n",
       "      <td>лише ти хто</td>\n",
       "      <td>1</td>\n",
       "    </tr>\n",
       "    <tr>\n",
       "      <th>4</th>\n",
       "      <td>PODROBNOSTY/16144785683468/wav/spk_id_10704_16...</td>\n",
       "      <td>на це абонемент</td>\n",
       "      <td>на це попередній абонемент</td>\n",
       "      <td>-11</td>\n",
       "    </tr>\n",
       "  </tbody>\n",
       "</table>\n",
       "</div>"
      ],
      "text/plain": [
       "                                                path  \\\n",
       "0  PODROBNOSTY/16144785683468/wav/spk_id_10704_16...   \n",
       "1  PODROBNOSTY/16144785683468/wav/spk_id_10704_16...   \n",
       "2  PODROBNOSTY/16144785683468/wav/spk_id_10704_16...   \n",
       "3  PODROBNOSTY/16144785683468/wav/spk_id_10704_16...   \n",
       "4  PODROBNOSTY/16144785683468/wav/spk_id_10704_16...   \n",
       "\n",
       "                                       transcription  \\\n",
       "0  нужденні стали єдиними у бельгії хто має право...   \n",
       "1                                       щоправда про   \n",
       "2                                    заклади годують   \n",
       "3                                       лише тих хто   \n",
       "4                                    на це абонемент   \n",
       "\n",
       "                                      generated_text  length_diff  \n",
       "0  нужденні стали єдинами у бельгії хто має право...            0  \n",
       "1                                  щоправда мова про           -5  \n",
       "2                                 закладе де годують           -3  \n",
       "3                                        лише ти хто            1  \n",
       "4                         на це попередній абонемент          -11  "
      ]
     },
     "execution_count": 33,
     "metadata": {},
     "output_type": "execute_result"
    }
   ],
   "source": [
    "# Create column in dataset\n",
    "transcripts['length_diff'] = length\n",
    "transcripts.head()"
   ]
  },
  {
   "cell_type": "markdown",
   "id": "a9ef460d-f17a-49e2-a597-15ca2cc3f792",
   "metadata": {},
   "source": [
    "Based on the difference, classificate each transcript into one of three categories: incomplete (difference is equal or less than -10), inconclusive (difference is equal to or less than -5), or complete (difference is greater than -5). Save the classification as a new column of the dataframe and then save the dataframe as a csv file."
   ]
  },
  {
   "cell_type": "code",
   "execution_count": 34,
   "id": "e4ecf83f-871a-426b-930b-223098299606",
   "metadata": {},
   "outputs": [
    {
     "name": "stderr",
     "output_type": "stream",
     "text": [
      "/tmp/ipykernel_428/682401493.py:11: SettingWithCopyWarning: \n",
      "A value is trying to be set on a copy of a slice from a DataFrame\n",
      "\n",
      "See the caveats in the documentation: https://pandas.pydata.org/pandas-docs/stable/user_guide/indexing.html#returning-a-view-versus-a-copy\n",
      "  transcripts['length_cat'][i] = 'complete'\n"
     ]
    },
    {
     "data": {
      "text/html": [
       "<div>\n",
       "<style scoped>\n",
       "    .dataframe tbody tr th:only-of-type {\n",
       "        vertical-align: middle;\n",
       "    }\n",
       "\n",
       "    .dataframe tbody tr th {\n",
       "        vertical-align: top;\n",
       "    }\n",
       "\n",
       "    .dataframe thead th {\n",
       "        text-align: right;\n",
       "    }\n",
       "</style>\n",
       "<table border=\"1\" class=\"dataframe\">\n",
       "  <thead>\n",
       "    <tr style=\"text-align: right;\">\n",
       "      <th></th>\n",
       "      <th>path</th>\n",
       "      <th>transcription</th>\n",
       "      <th>generated_text</th>\n",
       "      <th>length_diff</th>\n",
       "      <th>length_cat</th>\n",
       "    </tr>\n",
       "  </thead>\n",
       "  <tbody>\n",
       "    <tr>\n",
       "      <th>0</th>\n",
       "      <td>PODROBNOSTY/16144785683468/wav/spk_id_10704_16...</td>\n",
       "      <td>нужденні стали єдиними у бельгії хто має право...</td>\n",
       "      <td>нужденні стали єдинами у бельгії хто має право...</td>\n",
       "      <td>0</td>\n",
       "      <td>complete</td>\n",
       "    </tr>\n",
       "    <tr>\n",
       "      <th>1</th>\n",
       "      <td>PODROBNOSTY/16144785683468/wav/spk_id_10704_16...</td>\n",
       "      <td>щоправда про</td>\n",
       "      <td>щоправда мова про</td>\n",
       "      <td>-5</td>\n",
       "      <td>inconclusive</td>\n",
       "    </tr>\n",
       "    <tr>\n",
       "      <th>2</th>\n",
       "      <td>PODROBNOSTY/16144785683468/wav/spk_id_10704_16...</td>\n",
       "      <td>заклади годують</td>\n",
       "      <td>закладе де годують</td>\n",
       "      <td>-3</td>\n",
       "      <td>complete</td>\n",
       "    </tr>\n",
       "    <tr>\n",
       "      <th>3</th>\n",
       "      <td>PODROBNOSTY/16144785683468/wav/spk_id_10704_16...</td>\n",
       "      <td>лише тих хто</td>\n",
       "      <td>лише ти хто</td>\n",
       "      <td>1</td>\n",
       "      <td>complete</td>\n",
       "    </tr>\n",
       "    <tr>\n",
       "      <th>4</th>\n",
       "      <td>PODROBNOSTY/16144785683468/wav/spk_id_10704_16...</td>\n",
       "      <td>на це абонемент</td>\n",
       "      <td>на це попередній абонемент</td>\n",
       "      <td>-11</td>\n",
       "      <td>incomplete</td>\n",
       "    </tr>\n",
       "  </tbody>\n",
       "</table>\n",
       "</div>"
      ],
      "text/plain": [
       "                                                path  \\\n",
       "0  PODROBNOSTY/16144785683468/wav/spk_id_10704_16...   \n",
       "1  PODROBNOSTY/16144785683468/wav/spk_id_10704_16...   \n",
       "2  PODROBNOSTY/16144785683468/wav/spk_id_10704_16...   \n",
       "3  PODROBNOSTY/16144785683468/wav/spk_id_10704_16...   \n",
       "4  PODROBNOSTY/16144785683468/wav/spk_id_10704_16...   \n",
       "\n",
       "                                       transcription  \\\n",
       "0  нужденні стали єдиними у бельгії хто має право...   \n",
       "1                                       щоправда про   \n",
       "2                                    заклади годують   \n",
       "3                                       лише тих хто   \n",
       "4                                    на це абонемент   \n",
       "\n",
       "                                      generated_text  length_diff  \\\n",
       "0  нужденні стали єдинами у бельгії хто має право...            0   \n",
       "1                                  щоправда мова про           -5   \n",
       "2                                 закладе де годують           -3   \n",
       "3                                        лише ти хто            1   \n",
       "4                         на це попередній абонемент          -11   \n",
       "\n",
       "     length_cat  \n",
       "0      complete  \n",
       "1  inconclusive  \n",
       "2      complete  \n",
       "3      complete  \n",
       "4    incomplete  "
      ]
     },
     "execution_count": 34,
     "metadata": {},
     "output_type": "execute_result"
    }
   ],
   "source": [
    "# Classificate transcripts according to length difference\n",
    "\n",
    "transcripts['length_cat'] = [0 for x in range(1008)]\n",
    "\n",
    "for i in range(len(transcripts['length_diff'])):\n",
    "    if transcripts['length_diff'][i] <= -10:\n",
    "        transcripts['length_cat'][i] = 'incomplete'\n",
    "    elif transcripts['length_diff'][i] <= -5:\n",
    "        transcripts['length_cat'][i] = 'inconclusive'\n",
    "    else:\n",
    "        transcripts['length_cat'][i] = 'complete'\n",
    "    \n",
    "\n",
    "transcripts.to_csv('transcripts_length_cat_PODROBNOSTY.csv', encoding='utf-8')\n",
    "transcripts.head()"
   ]
  },
  {
   "cell_type": "markdown",
   "id": "a3540d77-29cd-44c8-b25b-d5594e57c72e",
   "metadata": {},
   "source": [
    "To have a picture about the completeness of the transcripts, count and plot the values in each category."
   ]
  },
  {
   "cell_type": "code",
   "execution_count": 35,
   "id": "a1b1f717-2091-4b85-ae59-3b2adf32a67e",
   "metadata": {},
   "outputs": [
    {
     "data": {
      "text/plain": [
       "complete        732\n",
       "incomplete      226\n",
       "inconclusive     50\n",
       "Name: length_cat, dtype: int64"
      ]
     },
     "execution_count": 35,
     "metadata": {},
     "output_type": "execute_result"
    }
   ],
   "source": [
    "# Count n of transcripts per category\n",
    "transcripts['length_cat'].value_counts()"
   ]
  },
  {
   "cell_type": "code",
   "execution_count": 36,
   "id": "e7b763b0-925d-4459-bf26-8ac11f6ab556",
   "metadata": {},
   "outputs": [
    {
     "data": {
      "text/plain": [
       "<AxesSubplot: >"
      ]
     },
     "execution_count": 36,
     "metadata": {},
     "output_type": "execute_result"
    },
    {
     "data": {
      "image/png": "[encoded data removed]",
      "text/plain": [
       "<Figure size 640x480 with 1 Axes>"
      ]
     },
     "metadata": {},
     "output_type": "display_data"
    }
   ],
   "source": [
    "transcripts['length_cat'].value_counts().plot.bar()"
   ]
  },
  {
   "cell_type": "markdown",
   "id": "7de606f0-15d4-481b-9fd0-5f6ffb62d737",
   "metadata": {},
   "source": [
    "Finally, select only the transcripts classificated as incomplete or inconclusive and save them into a text file for manual inspection. The text file contains the path, the transcript, and the generated text, each in a different line, with a blank line separating each sentence."
   ]
  },
  {
   "cell_type": "code",
   "execution_count": 37,
   "id": "1daf9ea5-494d-4628-8116-ebb73ba8e0bf",
   "metadata": {},
   "outputs": [
    {
     "data": {
      "text/html": [
       "<div>\n",
       "<style scoped>\n",
       "    .dataframe tbody tr th:only-of-type {\n",
       "        vertical-align: middle;\n",
       "    }\n",
       "\n",
       "    .dataframe tbody tr th {\n",
       "        vertical-align: top;\n",
       "    }\n",
       "\n",
       "    .dataframe thead th {\n",
       "        text-align: right;\n",
       "    }\n",
       "</style>\n",
       "<table border=\"1\" class=\"dataframe\">\n",
       "  <thead>\n",
       "    <tr style=\"text-align: right;\">\n",
       "      <th></th>\n",
       "      <th>path</th>\n",
       "      <th>transcription</th>\n",
       "      <th>generated_text</th>\n",
       "      <th>length_diff</th>\n",
       "      <th>length_cat</th>\n",
       "    </tr>\n",
       "  </thead>\n",
       "  <tbody>\n",
       "    <tr>\n",
       "      <th>1</th>\n",
       "      <td>PODROBNOSTY/16144785683468/wav/spk_id_10704_16...</td>\n",
       "      <td>щоправда про</td>\n",
       "      <td>щоправда мова про</td>\n",
       "      <td>-5</td>\n",
       "      <td>inconclusive</td>\n",
       "    </tr>\n",
       "    <tr>\n",
       "      <th>4</th>\n",
       "      <td>PODROBNOSTY/16144785683468/wav/spk_id_10704_16...</td>\n",
       "      <td>на це абонемент</td>\n",
       "      <td>на це попередній абонемент</td>\n",
       "      <td>-11</td>\n",
       "      <td>incomplete</td>\n",
       "    </tr>\n",
       "    <tr>\n",
       "      <th>6</th>\n",
       "      <td>PODROBNOSTY/16144785683468/wav/spk_id_12228_16...</td>\n",
       "      <td>про не можуть</td>\n",
       "      <td>про найвразливіших бачила олена абрамовичтут н...</td>\n",
       "      <td>-41</td>\n",
       "      <td>incomplete</td>\n",
       "    </tr>\n",
       "    <tr>\n",
       "      <th>17</th>\n",
       "      <td>PODROBNOSTY/16144785683468/wav/spk_id_11654_16...</td>\n",
       "      <td>десятків серця</td>\n",
       "      <td>есятків бельгійських хестодюкег дослідно ресто...</td>\n",
       "      <td>-44</td>\n",
       "      <td>incomplete</td>\n",
       "    </tr>\n",
       "    <tr>\n",
       "      <th>25</th>\n",
       "      <td>PODROBNOSTY/16144785683468/wav/spk_id_12199_16...</td>\n",
       "      <td>ми між людьми</td>\n",
       "      <td>ми розставили столи щоби між людьми</td>\n",
       "      <td>-22</td>\n",
       "      <td>incomplete</td>\n",
       "    </tr>\n",
       "  </tbody>\n",
       "</table>\n",
       "</div>"
      ],
      "text/plain": [
       "                                                 path    transcription  \\\n",
       "1   PODROBNOSTY/16144785683468/wav/spk_id_10704_16...     щоправда про   \n",
       "4   PODROBNOSTY/16144785683468/wav/spk_id_10704_16...  на це абонемент   \n",
       "6   PODROBNOSTY/16144785683468/wav/spk_id_12228_16...    про не можуть   \n",
       "17  PODROBNOSTY/16144785683468/wav/spk_id_11654_16...   десятків серця   \n",
       "25  PODROBNOSTY/16144785683468/wav/spk_id_12199_16...    ми між людьми   \n",
       "\n",
       "                                       generated_text  length_diff  \\\n",
       "1                                   щоправда мова про           -5   \n",
       "4                          на це попередній абонемент          -11   \n",
       "6   про найвразливіших бачила олена абрамовичтут н...          -41   \n",
       "17  есятків бельгійських хестодюкег дослідно ресто...          -44   \n",
       "25                ми розставили столи щоби між людьми          -22   \n",
       "\n",
       "      length_cat  \n",
       "1   inconclusive  \n",
       "4     incomplete  \n",
       "6     incomplete  \n",
       "17    incomplete  \n",
       "25    incomplete  "
      ]
     },
     "execution_count": 37,
     "metadata": {},
     "output_type": "execute_result"
    }
   ],
   "source": [
    "# Select only transcripts in the incomplete and inconclusive categories\n",
    "txt = transcripts.loc[(transcripts['length_cat'] == 'incomplete') | (transcripts['length_cat'] == 'inconclusive')]\n",
    "txt.head()"
   ]
  },
  {
   "cell_type": "code",
   "execution_count": 39,
   "id": "ef8902be-84e3-4d32-ab44-308d37942408",
   "metadata": {},
   "outputs": [],
   "source": [
    "# Save in a text file\n",
    "with open('transcripts_PODROBNOSTY.txt', 'w', encoding='utf-8') as f:\n",
    "    for t in range(len(txt)):\n",
    "        f.write(txt.iloc[t,0]+'\\n')\n",
    "        f.write(txt.iloc[t,1]+'\\n')\n",
    "        f.write(txt.iloc[t,2]+'\\n')\n",
    "        f.write('\\n\\n')"
   ]
  }
 ],
 "metadata": {
  "kernelspec": {
   "display_name": "default:Python",
   "language": "python",
   "name": "conda-env-default-py"
  },
  "language_info": {
   "codemirror_mode": {
    "name": "ipython",
    "version": 3
   },
   "file_extension": ".py",
   "mimetype": "text/x-python",
   "name": "python",
   "nbconvert_exporter": "python",
   "pygments_lexer": "ipython3",
   "version": "3.9.13"
  }
 },
 "nbformat": 4,
 "nbformat_minor": 5
}
